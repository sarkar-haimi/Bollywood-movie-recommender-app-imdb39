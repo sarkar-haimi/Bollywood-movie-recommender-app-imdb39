{
 "cells": [
  {
   "cell_type": "code",
   "execution_count": 1,
   "id": "threatened-kentucky",
   "metadata": {
    "_cell_guid": "b1076dfc-b9ad-4769-8c92-a6c4dae69d19",
    "_uuid": "8f2839f25d086af736a60e9eeb907d3b93b6e0e5",
    "execution": {
     "iopub.execute_input": "2021-07-07T16:44:31.977389Z",
     "iopub.status.busy": "2021-07-07T16:44:31.976365Z",
     "iopub.status.idle": "2021-07-07T16:44:31.998748Z",
     "shell.execute_reply": "2021-07-07T16:44:31.997945Z",
     "shell.execute_reply.started": "2021-07-07T15:19:04.941456Z"
    },
    "papermill": {
     "duration": 0.05666,
     "end_time": "2021-07-07T16:44:31.998949",
     "exception": false,
     "start_time": "2021-07-07T16:44:31.942289",
     "status": "completed"
    },
    "tags": []
   },
   "outputs": [
    {
     "name": "stdout",
     "output_type": "stream",
     "text": [
      "/kaggle/input/imdbbollywoodmoviesmodifiedcols/imdb_2000bollywood_movies (2).csv\n"
     ]
    }
   ],
   "source": [
    "# This Python 3 environment comes with many helpful analytics libraries installed\n",
    "# It is defined by the kaggle/python Docker image: https://github.com/kaggle/docker-python\n",
    "# For example, here's several helpful packages to load\n",
    "\n",
    "import numpy as np # linear algebra\n",
    "import pandas as pd # data processing, CSV file I/O (e.g. pd.read_csv)\n",
    "\n",
    "# Input data files are available in the read-only \"../input/\" directory\n",
    "# For example, running this (by clicking run or pressing Shift+Enter) will list all files under the input directory\n",
    "\n",
    "import os\n",
    "for dirname, _, filenames in os.walk('/kaggle/input'):\n",
    "    for filename in filenames:\n",
    "        print(os.path.join(dirname, filename))\n",
    "\n",
    "# You can write up to 20GB to the current directory (/kaggle/working/) that gets preserved as output when you create a version using \"Save & Run All\" \n",
    "# You can also write temporary files to /kaggle/temp/, but they won't be saved outside of the current session"
   ]
  },
  {
   "cell_type": "code",
   "execution_count": 2,
   "id": "complete-australia",
   "metadata": {
    "execution": {
     "iopub.execute_input": "2021-07-07T16:44:32.065237Z",
     "iopub.status.busy": "2021-07-07T16:44:32.064631Z",
     "iopub.status.idle": "2021-07-07T16:44:32.106574Z",
     "shell.execute_reply": "2021-07-07T16:44:32.106032Z",
     "shell.execute_reply.started": "2021-07-07T15:19:12.622455Z"
    },
    "papermill": {
     "duration": 0.076354,
     "end_time": "2021-07-07T16:44:32.106701",
     "exception": false,
     "start_time": "2021-07-07T16:44:32.030347",
     "status": "completed"
    },
    "tags": []
   },
   "outputs": [],
   "source": [
    "df=pd.read_csv('/kaggle/input/imdbbollywoodmoviesmodifiedcols/imdb_2000bollywood_movies (2).csv')"
   ]
  },
  {
   "cell_type": "code",
   "execution_count": 3,
   "id": "german-gothic",
   "metadata": {
    "execution": {
     "iopub.execute_input": "2021-07-07T16:44:32.178219Z",
     "iopub.status.busy": "2021-07-07T16:44:32.177660Z",
     "iopub.status.idle": "2021-07-07T16:44:32.200342Z",
     "shell.execute_reply": "2021-07-07T16:44:32.199771Z",
     "shell.execute_reply.started": "2021-07-07T15:19:17.820577Z"
    },
    "papermill": {
     "duration": 0.063248,
     "end_time": "2021-07-07T16:44:32.200473",
     "exception": false,
     "start_time": "2021-07-07T16:44:32.137225",
     "status": "completed"
    },
    "tags": []
   },
   "outputs": [
    {
     "data": {
      "text/html": [
       "<div>\n",
       "<style scoped>\n",
       "    .dataframe tbody tr th:only-of-type {\n",
       "        vertical-align: middle;\n",
       "    }\n",
       "\n",
       "    .dataframe tbody tr th {\n",
       "        vertical-align: top;\n",
       "    }\n",
       "\n",
       "    .dataframe thead th {\n",
       "        text-align: right;\n",
       "    }\n",
       "</style>\n",
       "<table border=\"1\" class=\"dataframe\">\n",
       "  <thead>\n",
       "    <tr style=\"text-align: right;\">\n",
       "      <th></th>\n",
       "      <th>lister-item-index</th>\n",
       "      <th>movie_name</th>\n",
       "      <th>year</th>\n",
       "      <th>genre</th>\n",
       "      <th>Overview</th>\n",
       "      <th>Director</th>\n",
       "      <th>Actor1</th>\n",
       "      <th>Actor2</th>\n",
       "      <th>Actor3</th>\n",
       "      <th>Actor4</th>\n",
       "    </tr>\n",
       "  </thead>\n",
       "  <tbody>\n",
       "    <tr>\n",
       "      <th>0</th>\n",
       "      <td>1</td>\n",
       "      <td>3 Idiots</td>\n",
       "      <td>-2009</td>\n",
       "      <td>Comedy, Drama</td>\n",
       "      <td>Two friends are searching for their long lost ...</td>\n",
       "      <td>Rajkumar Hirani</td>\n",
       "      <td>Aamir Khan</td>\n",
       "      <td>Madhavan</td>\n",
       "      <td>Mona Singh</td>\n",
       "      <td>Sharman Joshi</td>\n",
       "    </tr>\n",
       "    <tr>\n",
       "      <th>1</th>\n",
       "      <td>2</td>\n",
       "      <td>Like Stars on Earth</td>\n",
       "      <td>-2007</td>\n",
       "      <td>Drama, Family</td>\n",
       "      <td>An eight-year-old boy is thought to be a lazy ...</td>\n",
       "      <td>Aamir Khan</td>\n",
       "      <td>Amole Gupte</td>\n",
       "      <td>Darsheel Safary</td>\n",
       "      <td>Aamir Khan</td>\n",
       "      <td>Tisca Chopra</td>\n",
       "    </tr>\n",
       "    <tr>\n",
       "      <th>2</th>\n",
       "      <td>3</td>\n",
       "      <td>PK</td>\n",
       "      <td>-2014</td>\n",
       "      <td>Comedy, Drama, Musical</td>\n",
       "      <td>An alien on Earth loses the only device he can...</td>\n",
       "      <td>Rajkumar Hirani</td>\n",
       "      <td>Aamir Khan</td>\n",
       "      <td>Anushka Sharma</td>\n",
       "      <td>Sanjay Dutt</td>\n",
       "      <td>Boman Irani</td>\n",
       "    </tr>\n",
       "    <tr>\n",
       "      <th>3</th>\n",
       "      <td>4</td>\n",
       "      <td>Dangal</td>\n",
       "      <td>-2016</td>\n",
       "      <td>Action, Biography, Drama</td>\n",
       "      <td>Former wrestler  and his two wrestler daughter...</td>\n",
       "      <td>Nitesh Tiwari</td>\n",
       "      <td>Aamir Khan</td>\n",
       "      <td>Sakshi Tanwar</td>\n",
       "      <td>Fatima Sana Shaikh</td>\n",
       "      <td>Sanya Malhotra</td>\n",
       "    </tr>\n",
       "    <tr>\n",
       "      <th>4</th>\n",
       "      <td>5</td>\n",
       "      <td>Radhe</td>\n",
       "      <td>-2021</td>\n",
       "      <td>Action, Crime, Thriller</td>\n",
       "      <td>After taking the dreaded gangster Gani Bhai, A...</td>\n",
       "      <td>Prabhu Deva</td>\n",
       "      <td>Salman Khan</td>\n",
       "      <td>Disha Patani</td>\n",
       "      <td>Randeep Hooda</td>\n",
       "      <td>Jackie Shroff</td>\n",
       "    </tr>\n",
       "    <tr>\n",
       "      <th>...</th>\n",
       "      <td>...</td>\n",
       "      <td>...</td>\n",
       "      <td>...</td>\n",
       "      <td>...</td>\n",
       "      <td>...</td>\n",
       "      <td>...</td>\n",
       "      <td>...</td>\n",
       "      <td>...</td>\n",
       "      <td>...</td>\n",
       "      <td>...</td>\n",
       "    </tr>\n",
       "    <tr>\n",
       "      <th>2045</th>\n",
       "      <td>2,046.00</td>\n",
       "      <td>Gangoobai</td>\n",
       "      <td>-2013</td>\n",
       "      <td>Drama, Family</td>\n",
       "      <td>Gangoobai, a Maid-in-Matheran, has lived a lif...</td>\n",
       "      <td>Priya Krishnaswamy</td>\n",
       "      <td>Sarita Joshi</td>\n",
       "      <td>Purab Kohli</td>\n",
       "      <td>Mita Vashisht</td>\n",
       "      <td>Raj Zutshi</td>\n",
       "    </tr>\n",
       "    <tr>\n",
       "      <th>2046</th>\n",
       "      <td>2,047.00</td>\n",
       "      <td>Morning Raga</td>\n",
       "      <td>-2004</td>\n",
       "      <td>Drama, Music</td>\n",
       "      <td>A violinist and a vocal singer, their children...</td>\n",
       "      <td>Mahesh Dattani</td>\n",
       "      <td>Shabana Azmi</td>\n",
       "      <td>Prakash Kovelamudi</td>\n",
       "      <td>Lillete Dubey</td>\n",
       "      <td>Perizaad Zorabian</td>\n",
       "    </tr>\n",
       "    <tr>\n",
       "      <th>2047</th>\n",
       "      <td>2,048.00</td>\n",
       "      <td>Rakshak</td>\n",
       "      <td>-1996</td>\n",
       "      <td>Action, Thriller</td>\n",
       "      <td>ASP Raj Sinha is assign with the task of bring...</td>\n",
       "      <td>Ashok Honda</td>\n",
       "      <td>Sunil Shetty</td>\n",
       "      <td>Karisma Kapoor</td>\n",
       "      <td>Sonali Bendre</td>\n",
       "      <td>Raghuvaran</td>\n",
       "    </tr>\n",
       "    <tr>\n",
       "      <th>2048</th>\n",
       "      <td>2,049.00</td>\n",
       "      <td>The Song of Scorpions</td>\n",
       "      <td>-2017</td>\n",
       "      <td>Drama</td>\n",
       "      <td>A story of twisted love, revenge and the redem...</td>\n",
       "      <td>Anup Singh</td>\n",
       "      <td>Golshifteh Farahani</td>\n",
       "      <td>Irrfan Khan</td>\n",
       "      <td>Waheeda Rehman</td>\n",
       "      <td>Shashank Arora</td>\n",
       "    </tr>\n",
       "    <tr>\n",
       "      <th>2049</th>\n",
       "      <td>2,050.00</td>\n",
       "      <td>Doraemon: Nobita in the Wan-Nyan Spacetime Ody...</td>\n",
       "      <td>-2004</td>\n",
       "      <td>Animation, Adventure, Comedy</td>\n",
       "      <td>Nobita find a Place for abandoned Cats and Dog...</td>\n",
       "      <td>Tsutomu Shibayama</td>\n",
       "      <td>Nobuyo Ôyama</td>\n",
       "      <td>Noriko Ohara</td>\n",
       "      <td>Michiko Nomura</td>\n",
       "      <td>Kaneta Kimotsuki</td>\n",
       "    </tr>\n",
       "  </tbody>\n",
       "</table>\n",
       "<p>2050 rows × 10 columns</p>\n",
       "</div>"
      ],
      "text/plain": [
       "     lister-item-index                                         movie_name  \\\n",
       "0                    1                                           3 Idiots   \n",
       "1                    2                                Like Stars on Earth   \n",
       "2                    3                                                 PK   \n",
       "3                    4                                             Dangal   \n",
       "4                    5                                              Radhe   \n",
       "...                ...                                                ...   \n",
       "2045          2,046.00                                          Gangoobai   \n",
       "2046          2,047.00                                       Morning Raga   \n",
       "2047          2,048.00                                            Rakshak   \n",
       "2048          2,049.00                              The Song of Scorpions   \n",
       "2049          2,050.00  Doraemon: Nobita in the Wan-Nyan Spacetime Ody...   \n",
       "\n",
       "       year                         genre  \\\n",
       "0     -2009                 Comedy, Drama   \n",
       "1     -2007                 Drama, Family   \n",
       "2     -2014        Comedy, Drama, Musical   \n",
       "3     -2016      Action, Biography, Drama   \n",
       "4     -2021       Action, Crime, Thriller   \n",
       "...     ...                           ...   \n",
       "2045  -2013                 Drama, Family   \n",
       "2046  -2004                  Drama, Music   \n",
       "2047  -1996              Action, Thriller   \n",
       "2048  -2017                         Drama   \n",
       "2049  -2004  Animation, Adventure, Comedy   \n",
       "\n",
       "                                               Overview            Director  \\\n",
       "0     Two friends are searching for their long lost ...     Rajkumar Hirani   \n",
       "1     An eight-year-old boy is thought to be a lazy ...          Aamir Khan   \n",
       "2     An alien on Earth loses the only device he can...     Rajkumar Hirani   \n",
       "3     Former wrestler  and his two wrestler daughter...       Nitesh Tiwari   \n",
       "4     After taking the dreaded gangster Gani Bhai, A...         Prabhu Deva   \n",
       "...                                                 ...                 ...   \n",
       "2045  Gangoobai, a Maid-in-Matheran, has lived a lif...  Priya Krishnaswamy   \n",
       "2046  A violinist and a vocal singer, their children...      Mahesh Dattani   \n",
       "2047  ASP Raj Sinha is assign with the task of bring...         Ashok Honda   \n",
       "2048  A story of twisted love, revenge and the redem...          Anup Singh   \n",
       "2049  Nobita find a Place for abandoned Cats and Dog...   Tsutomu Shibayama   \n",
       "\n",
       "                   Actor1              Actor2              Actor3  \\\n",
       "0              Aamir Khan            Madhavan          Mona Singh   \n",
       "1             Amole Gupte     Darsheel Safary          Aamir Khan   \n",
       "2              Aamir Khan      Anushka Sharma         Sanjay Dutt   \n",
       "3              Aamir Khan       Sakshi Tanwar  Fatima Sana Shaikh   \n",
       "4             Salman Khan        Disha Patani       Randeep Hooda   \n",
       "...                   ...                 ...                 ...   \n",
       "2045         Sarita Joshi         Purab Kohli       Mita Vashisht   \n",
       "2046         Shabana Azmi  Prakash Kovelamudi       Lillete Dubey   \n",
       "2047         Sunil Shetty      Karisma Kapoor       Sonali Bendre   \n",
       "2048  Golshifteh Farahani         Irrfan Khan      Waheeda Rehman   \n",
       "2049         Nobuyo Ôyama        Noriko Ohara      Michiko Nomura   \n",
       "\n",
       "                 Actor4  \n",
       "0         Sharman Joshi  \n",
       "1          Tisca Chopra  \n",
       "2           Boman Irani  \n",
       "3        Sanya Malhotra  \n",
       "4         Jackie Shroff  \n",
       "...                 ...  \n",
       "2045         Raj Zutshi  \n",
       "2046  Perizaad Zorabian  \n",
       "2047         Raghuvaran  \n",
       "2048     Shashank Arora  \n",
       "2049   Kaneta Kimotsuki  \n",
       "\n",
       "[2050 rows x 10 columns]"
      ]
     },
     "execution_count": 3,
     "metadata": {},
     "output_type": "execute_result"
    }
   ],
   "source": [
    "df"
   ]
  },
  {
   "cell_type": "code",
   "execution_count": 4,
   "id": "appointed-anniversary",
   "metadata": {
    "execution": {
     "iopub.execute_input": "2021-07-07T16:44:32.268482Z",
     "iopub.status.busy": "2021-07-07T16:44:32.267913Z",
     "iopub.status.idle": "2021-07-07T16:44:32.270430Z",
     "shell.execute_reply": "2021-07-07T16:44:32.270923Z",
     "shell.execute_reply.started": "2021-07-07T15:19:22.182496Z"
    },
    "papermill": {
     "duration": 0.039105,
     "end_time": "2021-07-07T16:44:32.271067",
     "exception": false,
     "start_time": "2021-07-07T16:44:32.231962",
     "status": "completed"
    },
    "tags": []
   },
   "outputs": [],
   "source": [
    "# deleting col 'lister-item-index'\n",
    "df=df.drop(columns='lister-item-index')"
   ]
  },
  {
   "cell_type": "code",
   "execution_count": 5,
   "id": "piano-linux",
   "metadata": {
    "execution": {
     "iopub.execute_input": "2021-07-07T16:44:32.335897Z",
     "iopub.status.busy": "2021-07-07T16:44:32.335360Z",
     "iopub.status.idle": "2021-07-07T16:44:32.348290Z",
     "shell.execute_reply": "2021-07-07T16:44:32.347827Z",
     "shell.execute_reply.started": "2021-07-07T15:19:27.662582Z"
    },
    "papermill": {
     "duration": 0.046331,
     "end_time": "2021-07-07T16:44:32.348417",
     "exception": false,
     "start_time": "2021-07-07T16:44:32.302086",
     "status": "completed"
    },
    "tags": []
   },
   "outputs": [
    {
     "data": {
      "text/html": [
       "<div>\n",
       "<style scoped>\n",
       "    .dataframe tbody tr th:only-of-type {\n",
       "        vertical-align: middle;\n",
       "    }\n",
       "\n",
       "    .dataframe tbody tr th {\n",
       "        vertical-align: top;\n",
       "    }\n",
       "\n",
       "    .dataframe thead th {\n",
       "        text-align: right;\n",
       "    }\n",
       "</style>\n",
       "<table border=\"1\" class=\"dataframe\">\n",
       "  <thead>\n",
       "    <tr style=\"text-align: right;\">\n",
       "      <th></th>\n",
       "      <th>movie_name</th>\n",
       "      <th>year</th>\n",
       "      <th>genre</th>\n",
       "      <th>Overview</th>\n",
       "      <th>Director</th>\n",
       "      <th>Actor1</th>\n",
       "      <th>Actor2</th>\n",
       "      <th>Actor3</th>\n",
       "      <th>Actor4</th>\n",
       "    </tr>\n",
       "  </thead>\n",
       "  <tbody>\n",
       "    <tr>\n",
       "      <th>0</th>\n",
       "      <td>3 Idiots</td>\n",
       "      <td>-2009</td>\n",
       "      <td>Comedy, Drama</td>\n",
       "      <td>Two friends are searching for their long lost ...</td>\n",
       "      <td>Rajkumar Hirani</td>\n",
       "      <td>Aamir Khan</td>\n",
       "      <td>Madhavan</td>\n",
       "      <td>Mona Singh</td>\n",
       "      <td>Sharman Joshi</td>\n",
       "    </tr>\n",
       "    <tr>\n",
       "      <th>1</th>\n",
       "      <td>Like Stars on Earth</td>\n",
       "      <td>-2007</td>\n",
       "      <td>Drama, Family</td>\n",
       "      <td>An eight-year-old boy is thought to be a lazy ...</td>\n",
       "      <td>Aamir Khan</td>\n",
       "      <td>Amole Gupte</td>\n",
       "      <td>Darsheel Safary</td>\n",
       "      <td>Aamir Khan</td>\n",
       "      <td>Tisca Chopra</td>\n",
       "    </tr>\n",
       "    <tr>\n",
       "      <th>2</th>\n",
       "      <td>PK</td>\n",
       "      <td>-2014</td>\n",
       "      <td>Comedy, Drama, Musical</td>\n",
       "      <td>An alien on Earth loses the only device he can...</td>\n",
       "      <td>Rajkumar Hirani</td>\n",
       "      <td>Aamir Khan</td>\n",
       "      <td>Anushka Sharma</td>\n",
       "      <td>Sanjay Dutt</td>\n",
       "      <td>Boman Irani</td>\n",
       "    </tr>\n",
       "    <tr>\n",
       "      <th>3</th>\n",
       "      <td>Dangal</td>\n",
       "      <td>-2016</td>\n",
       "      <td>Action, Biography, Drama</td>\n",
       "      <td>Former wrestler  and his two wrestler daughter...</td>\n",
       "      <td>Nitesh Tiwari</td>\n",
       "      <td>Aamir Khan</td>\n",
       "      <td>Sakshi Tanwar</td>\n",
       "      <td>Fatima Sana Shaikh</td>\n",
       "      <td>Sanya Malhotra</td>\n",
       "    </tr>\n",
       "    <tr>\n",
       "      <th>4</th>\n",
       "      <td>Radhe</td>\n",
       "      <td>-2021</td>\n",
       "      <td>Action, Crime, Thriller</td>\n",
       "      <td>After taking the dreaded gangster Gani Bhai, A...</td>\n",
       "      <td>Prabhu Deva</td>\n",
       "      <td>Salman Khan</td>\n",
       "      <td>Disha Patani</td>\n",
       "      <td>Randeep Hooda</td>\n",
       "      <td>Jackie Shroff</td>\n",
       "    </tr>\n",
       "  </tbody>\n",
       "</table>\n",
       "</div>"
      ],
      "text/plain": [
       "            movie_name   year                     genre  \\\n",
       "0             3 Idiots  -2009             Comedy, Drama   \n",
       "1  Like Stars on Earth  -2007             Drama, Family   \n",
       "2                   PK  -2014    Comedy, Drama, Musical   \n",
       "3               Dangal  -2016  Action, Biography, Drama   \n",
       "4                Radhe  -2021   Action, Crime, Thriller   \n",
       "\n",
       "                                            Overview         Director  \\\n",
       "0  Two friends are searching for their long lost ...  Rajkumar Hirani   \n",
       "1  An eight-year-old boy is thought to be a lazy ...       Aamir Khan   \n",
       "2  An alien on Earth loses the only device he can...  Rajkumar Hirani   \n",
       "3  Former wrestler  and his two wrestler daughter...    Nitesh Tiwari   \n",
       "4  After taking the dreaded gangster Gani Bhai, A...      Prabhu Deva   \n",
       "\n",
       "        Actor1           Actor2              Actor3          Actor4  \n",
       "0   Aamir Khan         Madhavan          Mona Singh   Sharman Joshi  \n",
       "1  Amole Gupte  Darsheel Safary          Aamir Khan    Tisca Chopra  \n",
       "2   Aamir Khan   Anushka Sharma         Sanjay Dutt     Boman Irani  \n",
       "3   Aamir Khan    Sakshi Tanwar  Fatima Sana Shaikh  Sanya Malhotra  \n",
       "4  Salman Khan     Disha Patani       Randeep Hooda   Jackie Shroff  "
      ]
     },
     "execution_count": 5,
     "metadata": {},
     "output_type": "execute_result"
    }
   ],
   "source": [
    "df.head()"
   ]
  },
  {
   "cell_type": "code",
   "execution_count": 6,
   "id": "supported-puppy",
   "metadata": {
    "execution": {
     "iopub.execute_input": "2021-07-07T16:44:32.414751Z",
     "iopub.status.busy": "2021-07-07T16:44:32.414226Z",
     "iopub.status.idle": "2021-07-07T16:44:32.416617Z",
     "shell.execute_reply": "2021-07-07T16:44:32.417109Z",
     "shell.execute_reply.started": "2021-07-07T15:19:30.982158Z"
    },
    "papermill": {
     "duration": 0.037881,
     "end_time": "2021-07-07T16:44:32.417267",
     "exception": false,
     "start_time": "2021-07-07T16:44:32.379386",
     "status": "completed"
    },
    "tags": []
   },
   "outputs": [
    {
     "data": {
      "text/plain": [
       "(2050, 9)"
      ]
     },
     "execution_count": 6,
     "metadata": {},
     "output_type": "execute_result"
    }
   ],
   "source": [
    "df.shape"
   ]
  },
  {
   "cell_type": "code",
   "execution_count": 7,
   "id": "careful-excuse",
   "metadata": {
    "execution": {
     "iopub.execute_input": "2021-07-07T16:44:32.482150Z",
     "iopub.status.busy": "2021-07-07T16:44:32.481613Z",
     "iopub.status.idle": "2021-07-07T16:44:32.486625Z",
     "shell.execute_reply": "2021-07-07T16:44:32.487139Z",
     "shell.execute_reply.started": "2021-07-07T15:19:33.961291Z"
    },
    "papermill": {
     "duration": 0.039028,
     "end_time": "2021-07-07T16:44:32.487280",
     "exception": false,
     "start_time": "2021-07-07T16:44:32.448252",
     "status": "completed"
    },
    "tags": []
   },
   "outputs": [
    {
     "data": {
      "text/plain": [
       "38"
      ]
     },
     "execution_count": 7,
     "metadata": {},
     "output_type": "execute_result"
    }
   ],
   "source": [
    "# checking for multiple movies having same name(duplicates in col movie_name)\n",
    "df['movie_name'].duplicated().sum()"
   ]
  },
  {
   "cell_type": "code",
   "execution_count": 8,
   "id": "coordinate-bosnia",
   "metadata": {
    "execution": {
     "iopub.execute_input": "2021-07-07T16:44:32.552938Z",
     "iopub.status.busy": "2021-07-07T16:44:32.552408Z",
     "iopub.status.idle": "2021-07-07T16:44:32.568448Z",
     "shell.execute_reply": "2021-07-07T16:44:32.569024Z",
     "shell.execute_reply.started": "2021-07-07T14:43:56.675927Z"
    },
    "papermill": {
     "duration": 0.050582,
     "end_time": "2021-07-07T16:44:32.569241",
     "exception": false,
     "start_time": "2021-07-07T16:44:32.518659",
     "status": "completed"
    },
    "tags": []
   },
   "outputs": [
    {
     "name": "stdout",
     "output_type": "stream",
     "text": [
      "<class 'pandas.core.frame.DataFrame'>\n",
      "RangeIndex: 2050 entries, 0 to 2049\n",
      "Data columns (total 9 columns):\n",
      " #   Column      Non-Null Count  Dtype \n",
      "---  ------      --------------  ----- \n",
      " 0   movie_name  2050 non-null   object\n",
      " 1   year        2050 non-null   object\n",
      " 2   genre       2050 non-null   object\n",
      " 3   Overview    2049 non-null   object\n",
      " 4   Director    2050 non-null   object\n",
      " 5   Actor1      2050 non-null   object\n",
      " 6   Actor2      2050 non-null   object\n",
      " 7   Actor3      2048 non-null   object\n",
      " 8   Actor4      2044 non-null   object\n",
      "dtypes: object(9)\n",
      "memory usage: 144.3+ KB\n"
     ]
    }
   ],
   "source": [
    "df.info()"
   ]
  },
  {
   "cell_type": "code",
   "execution_count": 9,
   "id": "reported-probability",
   "metadata": {
    "execution": {
     "iopub.execute_input": "2021-07-07T16:44:32.637906Z",
     "iopub.status.busy": "2021-07-07T16:44:32.637312Z",
     "iopub.status.idle": "2021-07-07T16:44:32.645571Z",
     "shell.execute_reply": "2021-07-07T16:44:32.645012Z",
     "shell.execute_reply.started": "2021-07-07T15:20:26.347109Z"
    },
    "papermill": {
     "duration": 0.044324,
     "end_time": "2021-07-07T16:44:32.645694",
     "exception": false,
     "start_time": "2021-07-07T16:44:32.601370",
     "status": "completed"
    },
    "tags": []
   },
   "outputs": [
    {
     "data": {
      "text/plain": [
       "0"
      ]
     },
     "execution_count": 9,
     "metadata": {},
     "output_type": "execute_result"
    }
   ],
   "source": [
    "# if there is any duplicate values in dataset\n",
    "df.duplicated().sum()"
   ]
  },
  {
   "cell_type": "code",
   "execution_count": 10,
   "id": "legitimate-auction",
   "metadata": {
    "execution": {
     "iopub.execute_input": "2021-07-07T16:44:32.712813Z",
     "iopub.status.busy": "2021-07-07T16:44:32.712264Z",
     "iopub.status.idle": "2021-07-07T16:44:32.719022Z",
     "shell.execute_reply": "2021-07-07T16:44:32.719524Z",
     "shell.execute_reply.started": "2021-07-07T15:20:29.461167Z"
    },
    "papermill": {
     "duration": 0.04167,
     "end_time": "2021-07-07T16:44:32.719668",
     "exception": false,
     "start_time": "2021-07-07T16:44:32.677998",
     "status": "completed"
    },
    "tags": []
   },
   "outputs": [
    {
     "data": {
      "text/plain": [
       "movie_name    0\n",
       "year          0\n",
       "genre         0\n",
       "Overview      1\n",
       "Director      0\n",
       "Actor1        0\n",
       "Actor2        0\n",
       "Actor3        2\n",
       "Actor4        6\n",
       "dtype: int64"
      ]
     },
     "execution_count": 10,
     "metadata": {},
     "output_type": "execute_result"
    }
   ],
   "source": [
    "# if there is any missing values in dataset\n",
    "df.isnull().sum()"
   ]
  },
  {
   "cell_type": "code",
   "execution_count": 11,
   "id": "average-watch",
   "metadata": {
    "execution": {
     "iopub.execute_input": "2021-07-07T16:44:32.787624Z",
     "iopub.status.busy": "2021-07-07T16:44:32.787087Z",
     "iopub.status.idle": "2021-07-07T16:44:32.807788Z",
     "shell.execute_reply": "2021-07-07T16:44:32.806696Z",
     "shell.execute_reply.started": "2021-07-07T15:21:32.881207Z"
    },
    "papermill": {
     "duration": 0.05585,
     "end_time": "2021-07-07T16:44:32.807920",
     "exception": false,
     "start_time": "2021-07-07T16:44:32.752070",
     "status": "completed"
    },
    "tags": []
   },
   "outputs": [],
   "source": [
    "# to omit missing values\n",
    "df.dropna(inplace=True)"
   ]
  },
  {
   "cell_type": "code",
   "execution_count": 12,
   "id": "overhead-separation",
   "metadata": {
    "execution": {
     "iopub.execute_input": "2021-07-07T16:44:32.879477Z",
     "iopub.status.busy": "2021-07-07T16:44:32.878929Z",
     "iopub.status.idle": "2021-07-07T16:44:32.882831Z",
     "shell.execute_reply": "2021-07-07T16:44:32.882356Z",
     "shell.execute_reply.started": "2021-07-07T15:21:35.361728Z"
    },
    "papermill": {
     "duration": 0.042411,
     "end_time": "2021-07-07T16:44:32.882950",
     "exception": false,
     "start_time": "2021-07-07T16:44:32.840539",
     "status": "completed"
    },
    "tags": []
   },
   "outputs": [
    {
     "data": {
      "text/plain": [
       "movie_name    0\n",
       "year          0\n",
       "genre         0\n",
       "Overview      0\n",
       "Director      0\n",
       "Actor1        0\n",
       "Actor2        0\n",
       "Actor3        0\n",
       "Actor4        0\n",
       "dtype: int64"
      ]
     },
     "execution_count": 12,
     "metadata": {},
     "output_type": "execute_result"
    }
   ],
   "source": [
    "df.isnull().sum()"
   ]
  },
  {
   "cell_type": "code",
   "execution_count": 13,
   "id": "historic-bullet",
   "metadata": {
    "execution": {
     "iopub.execute_input": "2021-07-07T16:44:32.951938Z",
     "iopub.status.busy": "2021-07-07T16:44:32.951066Z",
     "iopub.status.idle": "2021-07-07T16:44:32.963073Z",
     "shell.execute_reply": "2021-07-07T16:44:32.963527Z",
     "shell.execute_reply.started": "2021-07-07T15:21:38.541715Z"
    },
    "papermill": {
     "duration": 0.048058,
     "end_time": "2021-07-07T16:44:32.963674",
     "exception": false,
     "start_time": "2021-07-07T16:44:32.915616",
     "status": "completed"
    },
    "tags": []
   },
   "outputs": [
    {
     "data": {
      "text/html": [
       "<div>\n",
       "<style scoped>\n",
       "    .dataframe tbody tr th:only-of-type {\n",
       "        vertical-align: middle;\n",
       "    }\n",
       "\n",
       "    .dataframe tbody tr th {\n",
       "        vertical-align: top;\n",
       "    }\n",
       "\n",
       "    .dataframe thead th {\n",
       "        text-align: right;\n",
       "    }\n",
       "</style>\n",
       "<table border=\"1\" class=\"dataframe\">\n",
       "  <thead>\n",
       "    <tr style=\"text-align: right;\">\n",
       "      <th></th>\n",
       "      <th>movie_name</th>\n",
       "      <th>year</th>\n",
       "      <th>genre</th>\n",
       "      <th>Overview</th>\n",
       "      <th>Director</th>\n",
       "      <th>Actor1</th>\n",
       "      <th>Actor2</th>\n",
       "      <th>Actor3</th>\n",
       "      <th>Actor4</th>\n",
       "    </tr>\n",
       "  </thead>\n",
       "  <tbody>\n",
       "    <tr>\n",
       "      <th>1772</th>\n",
       "      <td>Shorts</td>\n",
       "      <td>-2013</td>\n",
       "      <td>Drama</td>\n",
       "      <td>Shorts is a 2013 Hindi Drama film which is a c...</td>\n",
       "      <td>Neeraj Ghaywan</td>\n",
       "      <td>Siddharth Gupt</td>\n",
       "      <td>Rohit Pandey</td>\n",
       "      <td>Anirban Roy</td>\n",
       "      <td>Shlok Sharma</td>\n",
       "    </tr>\n",
       "  </tbody>\n",
       "</table>\n",
       "</div>"
      ],
      "text/plain": [
       "     movie_name   year  genre  \\\n",
       "1772     Shorts  -2013  Drama   \n",
       "\n",
       "                                               Overview        Director  \\\n",
       "1772  Shorts is a 2013 Hindi Drama film which is a c...  Neeraj Ghaywan   \n",
       "\n",
       "              Actor1        Actor2       Actor3        Actor4  \n",
       "1772  Siddharth Gupt  Rohit Pandey  Anirban Roy  Shlok Sharma  "
      ]
     },
     "execution_count": 13,
     "metadata": {},
     "output_type": "execute_result"
    }
   ],
   "source": [
    "df.sample()"
   ]
  },
  {
   "cell_type": "code",
   "execution_count": 14,
   "id": "threatened-awareness",
   "metadata": {
    "execution": {
     "iopub.execute_input": "2021-07-07T16:44:33.033028Z",
     "iopub.status.busy": "2021-07-07T16:44:33.032169Z",
     "iopub.status.idle": "2021-07-07T16:44:33.036766Z",
     "shell.execute_reply": "2021-07-07T16:44:33.037214Z",
     "shell.execute_reply.started": "2021-07-07T15:21:42.985775Z"
    },
    "papermill": {
     "duration": 0.040542,
     "end_time": "2021-07-07T16:44:33.037359",
     "exception": false,
     "start_time": "2021-07-07T16:44:32.996817",
     "status": "completed"
    },
    "tags": []
   },
   "outputs": [],
   "source": [
    "# final movies dataframe having these useful cols\n",
    "movies=df[['movie_name','year','genre','Overview','Director','Actor1','Actor2','Actor3']]"
   ]
  },
  {
   "cell_type": "code",
   "execution_count": 15,
   "id": "human-danger",
   "metadata": {
    "execution": {
     "iopub.execute_input": "2021-07-07T16:44:33.106399Z",
     "iopub.status.busy": "2021-07-07T16:44:33.105559Z",
     "iopub.status.idle": "2021-07-07T16:44:33.117538Z",
     "shell.execute_reply": "2021-07-07T16:44:33.117968Z",
     "shell.execute_reply.started": "2021-07-07T15:21:46.280650Z"
    },
    "papermill": {
     "duration": 0.047727,
     "end_time": "2021-07-07T16:44:33.118132",
     "exception": false,
     "start_time": "2021-07-07T16:44:33.070405",
     "status": "completed"
    },
    "tags": []
   },
   "outputs": [
    {
     "data": {
      "text/html": [
       "<div>\n",
       "<style scoped>\n",
       "    .dataframe tbody tr th:only-of-type {\n",
       "        vertical-align: middle;\n",
       "    }\n",
       "\n",
       "    .dataframe tbody tr th {\n",
       "        vertical-align: top;\n",
       "    }\n",
       "\n",
       "    .dataframe thead th {\n",
       "        text-align: right;\n",
       "    }\n",
       "</style>\n",
       "<table border=\"1\" class=\"dataframe\">\n",
       "  <thead>\n",
       "    <tr style=\"text-align: right;\">\n",
       "      <th></th>\n",
       "      <th>movie_name</th>\n",
       "      <th>year</th>\n",
       "      <th>genre</th>\n",
       "      <th>Overview</th>\n",
       "      <th>Director</th>\n",
       "      <th>Actor1</th>\n",
       "      <th>Actor2</th>\n",
       "      <th>Actor3</th>\n",
       "    </tr>\n",
       "  </thead>\n",
       "  <tbody>\n",
       "    <tr>\n",
       "      <th>0</th>\n",
       "      <td>3 Idiots</td>\n",
       "      <td>-2009</td>\n",
       "      <td>Comedy, Drama</td>\n",
       "      <td>Two friends are searching for their long lost ...</td>\n",
       "      <td>Rajkumar Hirani</td>\n",
       "      <td>Aamir Khan</td>\n",
       "      <td>Madhavan</td>\n",
       "      <td>Mona Singh</td>\n",
       "    </tr>\n",
       "    <tr>\n",
       "      <th>1</th>\n",
       "      <td>Like Stars on Earth</td>\n",
       "      <td>-2007</td>\n",
       "      <td>Drama, Family</td>\n",
       "      <td>An eight-year-old boy is thought to be a lazy ...</td>\n",
       "      <td>Aamir Khan</td>\n",
       "      <td>Amole Gupte</td>\n",
       "      <td>Darsheel Safary</td>\n",
       "      <td>Aamir Khan</td>\n",
       "    </tr>\n",
       "    <tr>\n",
       "      <th>2</th>\n",
       "      <td>PK</td>\n",
       "      <td>-2014</td>\n",
       "      <td>Comedy, Drama, Musical</td>\n",
       "      <td>An alien on Earth loses the only device he can...</td>\n",
       "      <td>Rajkumar Hirani</td>\n",
       "      <td>Aamir Khan</td>\n",
       "      <td>Anushka Sharma</td>\n",
       "      <td>Sanjay Dutt</td>\n",
       "    </tr>\n",
       "  </tbody>\n",
       "</table>\n",
       "</div>"
      ],
      "text/plain": [
       "            movie_name   year                   genre  \\\n",
       "0             3 Idiots  -2009           Comedy, Drama   \n",
       "1  Like Stars on Earth  -2007           Drama, Family   \n",
       "2                   PK  -2014  Comedy, Drama, Musical   \n",
       "\n",
       "                                            Overview         Director  \\\n",
       "0  Two friends are searching for their long lost ...  Rajkumar Hirani   \n",
       "1  An eight-year-old boy is thought to be a lazy ...       Aamir Khan   \n",
       "2  An alien on Earth loses the only device he can...  Rajkumar Hirani   \n",
       "\n",
       "        Actor1           Actor2       Actor3  \n",
       "0   Aamir Khan         Madhavan   Mona Singh  \n",
       "1  Amole Gupte  Darsheel Safary   Aamir Khan  \n",
       "2   Aamir Khan   Anushka Sharma  Sanjay Dutt  "
      ]
     },
     "execution_count": 15,
     "metadata": {},
     "output_type": "execute_result"
    }
   ],
   "source": [
    "movies.head(3)"
   ]
  },
  {
   "cell_type": "code",
   "execution_count": 16,
   "id": "upper-torture",
   "metadata": {
    "execution": {
     "iopub.execute_input": "2021-07-07T16:44:33.188208Z",
     "iopub.status.busy": "2021-07-07T16:44:33.187654Z",
     "iopub.status.idle": "2021-07-07T16:44:33.193326Z",
     "shell.execute_reply": "2021-07-07T16:44:33.193758Z",
     "shell.execute_reply.started": "2021-07-07T15:21:49.800435Z"
    },
    "papermill": {
     "duration": 0.04199,
     "end_time": "2021-07-07T16:44:33.193899",
     "exception": false,
     "start_time": "2021-07-07T16:44:33.151909",
     "status": "completed"
    },
    "tags": []
   },
   "outputs": [
    {
     "name": "stderr",
     "output_type": "stream",
     "text": [
      "/opt/conda/lib/python3.7/site-packages/ipykernel_launcher.py:2: SettingWithCopyWarning: \n",
      "A value is trying to be set on a copy of a slice from a DataFrame.\n",
      "Try using .loc[row_indexer,col_indexer] = value instead\n",
      "\n",
      "See the caveats in the documentation: https://pandas.pydata.org/pandas-docs/stable/user_guide/indexing.html#returning-a-view-versus-a-copy\n",
      "  \n"
     ]
    }
   ],
   "source": [
    "# deleting the '-' sign from the year col\n",
    "movies['year'] = movies['year'].apply(lambda x:x.replace('-',''))"
   ]
  },
  {
   "cell_type": "code",
   "execution_count": 17,
   "id": "requested-newark",
   "metadata": {
    "execution": {
     "iopub.execute_input": "2021-07-07T16:44:33.272585Z",
     "iopub.status.busy": "2021-07-07T16:44:33.271768Z",
     "iopub.status.idle": "2021-07-07T16:44:33.275036Z",
     "shell.execute_reply": "2021-07-07T16:44:33.275476Z",
     "shell.execute_reply.started": "2021-07-07T15:21:52.225838Z"
    },
    "papermill": {
     "duration": 0.048343,
     "end_time": "2021-07-07T16:44:33.275623",
     "exception": false,
     "start_time": "2021-07-07T16:44:33.227280",
     "status": "completed"
    },
    "tags": []
   },
   "outputs": [
    {
     "data": {
      "text/html": [
       "<div>\n",
       "<style scoped>\n",
       "    .dataframe tbody tr th:only-of-type {\n",
       "        vertical-align: middle;\n",
       "    }\n",
       "\n",
       "    .dataframe tbody tr th {\n",
       "        vertical-align: top;\n",
       "    }\n",
       "\n",
       "    .dataframe thead th {\n",
       "        text-align: right;\n",
       "    }\n",
       "</style>\n",
       "<table border=\"1\" class=\"dataframe\">\n",
       "  <thead>\n",
       "    <tr style=\"text-align: right;\">\n",
       "      <th></th>\n",
       "      <th>movie_name</th>\n",
       "      <th>year</th>\n",
       "      <th>genre</th>\n",
       "      <th>Overview</th>\n",
       "      <th>Director</th>\n",
       "      <th>Actor1</th>\n",
       "      <th>Actor2</th>\n",
       "      <th>Actor3</th>\n",
       "    </tr>\n",
       "  </thead>\n",
       "  <tbody>\n",
       "    <tr>\n",
       "      <th>1663</th>\n",
       "      <td>Gunga Jumna</td>\n",
       "      <td>1961</td>\n",
       "      <td>Action, Drama, Musical</td>\n",
       "      <td>Gungaram, a poor, indebted farmer, works hard ...</td>\n",
       "      <td>Nitin Bose</td>\n",
       "      <td>Dilip Kumar</td>\n",
       "      <td>Vyjayanthimala</td>\n",
       "      <td>Nasir Khan</td>\n",
       "    </tr>\n",
       "  </tbody>\n",
       "</table>\n",
       "</div>"
      ],
      "text/plain": [
       "       movie_name  year                   genre  \\\n",
       "1663  Gunga Jumna  1961  Action, Drama, Musical   \n",
       "\n",
       "                                               Overview    Director  \\\n",
       "1663  Gungaram, a poor, indebted farmer, works hard ...  Nitin Bose   \n",
       "\n",
       "           Actor1          Actor2      Actor3  \n",
       "1663  Dilip Kumar  Vyjayanthimala  Nasir Khan  "
      ]
     },
     "execution_count": 17,
     "metadata": {},
     "output_type": "execute_result"
    }
   ],
   "source": [
    "movies.sample()"
   ]
  },
  {
   "cell_type": "code",
   "execution_count": 18,
   "id": "previous-survey",
   "metadata": {
    "execution": {
     "iopub.execute_input": "2021-07-07T16:44:33.346979Z",
     "iopub.status.busy": "2021-07-07T16:44:33.346154Z",
     "iopub.status.idle": "2021-07-07T16:44:33.352546Z",
     "shell.execute_reply": "2021-07-07T16:44:33.352075Z",
     "shell.execute_reply.started": "2021-07-07T15:21:55.261024Z"
    },
    "papermill": {
     "duration": 0.042652,
     "end_time": "2021-07-07T16:44:33.352666",
     "exception": false,
     "start_time": "2021-07-07T16:44:33.310014",
     "status": "completed"
    },
    "tags": []
   },
   "outputs": [
    {
     "data": {
      "text/plain": [
       "38"
      ]
     },
     "execution_count": 18,
     "metadata": {},
     "output_type": "execute_result"
    }
   ],
   "source": [
    "movies['movie_name'].duplicated().sum()"
   ]
  },
  {
   "cell_type": "code",
   "execution_count": 19,
   "id": "desirable-ethnic",
   "metadata": {
    "execution": {
     "iopub.execute_input": "2021-07-07T16:44:33.425134Z",
     "iopub.status.busy": "2021-07-07T16:44:33.424536Z",
     "iopub.status.idle": "2021-07-07T16:44:33.427198Z",
     "shell.execute_reply": "2021-07-07T16:44:33.427605Z",
     "shell.execute_reply.started": "2021-07-07T15:21:57.545945Z"
    },
    "papermill": {
     "duration": 0.041048,
     "end_time": "2021-07-07T16:44:33.427744",
     "exception": false,
     "start_time": "2021-07-07T16:44:33.386696",
     "status": "completed"
    },
    "tags": []
   },
   "outputs": [
    {
     "data": {
      "text/plain": [
       "(2044, 8)"
      ]
     },
     "execution_count": 19,
     "metadata": {},
     "output_type": "execute_result"
    }
   ],
   "source": [
    "movies.shape"
   ]
  },
  {
   "cell_type": "code",
   "execution_count": 20,
   "id": "korean-smoke",
   "metadata": {
    "execution": {
     "iopub.execute_input": "2021-07-07T16:44:33.498706Z",
     "iopub.status.busy": "2021-07-07T16:44:33.498178Z",
     "iopub.status.idle": "2021-07-07T16:44:33.509846Z",
     "shell.execute_reply": "2021-07-07T16:44:33.510273Z",
     "shell.execute_reply.started": "2021-07-07T15:22:00.460783Z"
    },
    "papermill": {
     "duration": 0.048307,
     "end_time": "2021-07-07T16:44:33.510416",
     "exception": false,
     "start_time": "2021-07-07T16:44:33.462109",
     "status": "completed"
    },
    "tags": []
   },
   "outputs": [
    {
     "data": {
      "text/html": [
       "<div>\n",
       "<style scoped>\n",
       "    .dataframe tbody tr th:only-of-type {\n",
       "        vertical-align: middle;\n",
       "    }\n",
       "\n",
       "    .dataframe tbody tr th {\n",
       "        vertical-align: top;\n",
       "    }\n",
       "\n",
       "    .dataframe thead th {\n",
       "        text-align: right;\n",
       "    }\n",
       "</style>\n",
       "<table border=\"1\" class=\"dataframe\">\n",
       "  <thead>\n",
       "    <tr style=\"text-align: right;\">\n",
       "      <th></th>\n",
       "      <th>movie_name</th>\n",
       "      <th>year</th>\n",
       "      <th>genre</th>\n",
       "      <th>Overview</th>\n",
       "      <th>Director</th>\n",
       "      <th>Actor1</th>\n",
       "      <th>Actor2</th>\n",
       "      <th>Actor3</th>\n",
       "    </tr>\n",
       "  </thead>\n",
       "  <tbody>\n",
       "    <tr>\n",
       "      <th>1678</th>\n",
       "      <td>Hogi Pyaar Ki Jeet</td>\n",
       "      <td>1999</td>\n",
       "      <td>Action, Comedy, Drama</td>\n",
       "      <td>Surjit finds out that his sister is in love wi...</td>\n",
       "      <td>P. Vasu</td>\n",
       "      <td>Ajay Devgn</td>\n",
       "      <td>Shabana Raza</td>\n",
       "      <td>Arshad Warsi</td>\n",
       "    </tr>\n",
       "    <tr>\n",
       "      <th>898</th>\n",
       "      <td>Karz</td>\n",
       "      <td>1980</td>\n",
       "      <td>Action, Musical, Romance</td>\n",
       "      <td>Ravi is killed by his wife after his marriage....</td>\n",
       "      <td>Subhash Ghai</td>\n",
       "      <td>Rishi Kapoor</td>\n",
       "      <td>Tina Ambani</td>\n",
       "      <td>Simi Garewal</td>\n",
       "    </tr>\n",
       "    <tr>\n",
       "      <th>1068</th>\n",
       "      <td>Naseeb</td>\n",
       "      <td>1981</td>\n",
       "      <td>Action, Musical, Romance</td>\n",
       "      <td>A lottery ticket changes the lives of four fri...</td>\n",
       "      <td>Manmohan Desai</td>\n",
       "      <td>Amitabh Bachchan</td>\n",
       "      <td>Shatrughan Sinha</td>\n",
       "      <td>Rishi Kapoor</td>\n",
       "    </tr>\n",
       "    <tr>\n",
       "      <th>1672</th>\n",
       "      <td>Kartoos</td>\n",
       "      <td>1999</td>\n",
       "      <td>Action, Thriller</td>\n",
       "      <td>A cop trains a criminal Raja to end the reign ...</td>\n",
       "      <td>Mahesh Bhatt</td>\n",
       "      <td>Sanjay Dutt</td>\n",
       "      <td>Jackie Shroff</td>\n",
       "      <td>Manisha Koirala</td>\n",
       "    </tr>\n",
       "    <tr>\n",
       "      <th>294</th>\n",
       "      <td>MSG: The Messenger of God</td>\n",
       "      <td>2015</td>\n",
       "      <td>Action, Comedy, Drama</td>\n",
       "      <td>Guru Ji is a social reformer who works to help...</td>\n",
       "      <td>Jeetu Arora</td>\n",
       "      <td>Gurmeet Ram Rahim Singh</td>\n",
       "      <td>Gurmeet Ram Rahim Singh</td>\n",
       "      <td>Daniel Kaleb</td>\n",
       "    </tr>\n",
       "  </tbody>\n",
       "</table>\n",
       "</div>"
      ],
      "text/plain": [
       "                     movie_name  year                     genre  \\\n",
       "1678         Hogi Pyaar Ki Jeet  1999     Action, Comedy, Drama   \n",
       "898                        Karz  1980  Action, Musical, Romance   \n",
       "1068                     Naseeb  1981  Action, Musical, Romance   \n",
       "1672                    Kartoos  1999          Action, Thriller   \n",
       "294   MSG: The Messenger of God  2015     Action, Comedy, Drama   \n",
       "\n",
       "                                               Overview        Director  \\\n",
       "1678  Surjit finds out that his sister is in love wi...         P. Vasu   \n",
       "898   Ravi is killed by his wife after his marriage....    Subhash Ghai   \n",
       "1068  A lottery ticket changes the lives of four fri...  Manmohan Desai   \n",
       "1672  A cop trains a criminal Raja to end the reign ...    Mahesh Bhatt   \n",
       "294   Guru Ji is a social reformer who works to help...     Jeetu Arora   \n",
       "\n",
       "                       Actor1                   Actor2           Actor3  \n",
       "1678               Ajay Devgn             Shabana Raza     Arshad Warsi  \n",
       "898              Rishi Kapoor              Tina Ambani     Simi Garewal  \n",
       "1068         Amitabh Bachchan         Shatrughan Sinha     Rishi Kapoor  \n",
       "1672              Sanjay Dutt            Jackie Shroff  Manisha Koirala  \n",
       "294   Gurmeet Ram Rahim Singh  Gurmeet Ram Rahim Singh     Daniel Kaleb  "
      ]
     },
     "execution_count": 20,
     "metadata": {},
     "output_type": "execute_result"
    }
   ],
   "source": [
    "movies.sample(5)"
   ]
  },
  {
   "cell_type": "code",
   "execution_count": 21,
   "id": "dimensional-motion",
   "metadata": {
    "execution": {
     "iopub.execute_input": "2021-07-07T16:44:33.582476Z",
     "iopub.status.busy": "2021-07-07T16:44:33.581945Z",
     "iopub.status.idle": "2021-07-07T16:44:33.589204Z",
     "shell.execute_reply": "2021-07-07T16:44:33.589582Z",
     "shell.execute_reply.started": "2021-07-07T15:22:13.541704Z"
    },
    "papermill": {
     "duration": 0.044241,
     "end_time": "2021-07-07T16:44:33.589725",
     "exception": false,
     "start_time": "2021-07-07T16:44:33.545484",
     "status": "completed"
    },
    "tags": []
   },
   "outputs": [
    {
     "data": {
      "text/plain": [
       "['Two',\n",
       " 'friends',\n",
       " 'are',\n",
       " 'searching',\n",
       " 'for',\n",
       " 'their',\n",
       " 'long',\n",
       " 'lost',\n",
       " 'companion.',\n",
       " 'They',\n",
       " 'revisit',\n",
       " 'their',\n",
       " 'college',\n",
       " 'days',\n",
       " 'and',\n",
       " 'recall',\n",
       " 'the',\n",
       " 'memories',\n",
       " 'of',\n",
       " 'their',\n",
       " 'friend',\n",
       " 'who',\n",
       " 'inspired',\n",
       " 'them',\n",
       " 'to',\n",
       " 'think',\n",
       " 'differently,',\n",
       " 'even',\n",
       " 'as',\n",
       " 'the',\n",
       " 'rest',\n",
       " 'of',\n",
       " 'the',\n",
       " 'world',\n",
       " 'called',\n",
       " 'them',\n",
       " '\"idiots\".']"
      ]
     },
     "execution_count": 21,
     "metadata": {},
     "output_type": "execute_result"
    }
   ],
   "source": [
    "movies['Overview'][0].split()"
   ]
  },
  {
   "cell_type": "code",
   "execution_count": 22,
   "id": "canadian-spanish",
   "metadata": {
    "execution": {
     "iopub.execute_input": "2021-07-07T16:44:33.662088Z",
     "iopub.status.busy": "2021-07-07T16:44:33.661570Z",
     "iopub.status.idle": "2021-07-07T16:44:33.673526Z",
     "shell.execute_reply": "2021-07-07T16:44:33.674137Z",
     "shell.execute_reply.started": "2021-07-07T15:22:22.381700Z"
    },
    "papermill": {
     "duration": 0.049483,
     "end_time": "2021-07-07T16:44:33.674325",
     "exception": false,
     "start_time": "2021-07-07T16:44:33.624842",
     "status": "completed"
    },
    "tags": []
   },
   "outputs": [
    {
     "name": "stderr",
     "output_type": "stream",
     "text": [
      "/opt/conda/lib/python3.7/site-packages/ipykernel_launcher.py:2: SettingWithCopyWarning: \n",
      "A value is trying to be set on a copy of a slice from a DataFrame.\n",
      "Try using .loc[row_indexer,col_indexer] = value instead\n",
      "\n",
      "See the caveats in the documentation: https://pandas.pydata.org/pandas-docs/stable/user_guide/indexing.html#returning-a-view-versus-a-copy\n",
      "  \n"
     ]
    }
   ],
   "source": [
    "# splitting the string col 'Overview' into list\n",
    "movies['Overview'] = movies['Overview'].apply(lambda x:x.split())"
   ]
  },
  {
   "cell_type": "code",
   "execution_count": 23,
   "id": "finite-garage",
   "metadata": {
    "execution": {
     "iopub.execute_input": "2021-07-07T16:44:33.753057Z",
     "iopub.status.busy": "2021-07-07T16:44:33.752446Z",
     "iopub.status.idle": "2021-07-07T16:44:33.764962Z",
     "shell.execute_reply": "2021-07-07T16:44:33.765394Z",
     "shell.execute_reply.started": "2021-07-07T15:22:24.641221Z"
    },
    "papermill": {
     "duration": 0.05096,
     "end_time": "2021-07-07T16:44:33.765537",
     "exception": false,
     "start_time": "2021-07-07T16:44:33.714577",
     "status": "completed"
    },
    "tags": []
   },
   "outputs": [
    {
     "data": {
      "text/html": [
       "<div>\n",
       "<style scoped>\n",
       "    .dataframe tbody tr th:only-of-type {\n",
       "        vertical-align: middle;\n",
       "    }\n",
       "\n",
       "    .dataframe tbody tr th {\n",
       "        vertical-align: top;\n",
       "    }\n",
       "\n",
       "    .dataframe thead th {\n",
       "        text-align: right;\n",
       "    }\n",
       "</style>\n",
       "<table border=\"1\" class=\"dataframe\">\n",
       "  <thead>\n",
       "    <tr style=\"text-align: right;\">\n",
       "      <th></th>\n",
       "      <th>movie_name</th>\n",
       "      <th>year</th>\n",
       "      <th>genre</th>\n",
       "      <th>Overview</th>\n",
       "      <th>Director</th>\n",
       "      <th>Actor1</th>\n",
       "      <th>Actor2</th>\n",
       "      <th>Actor3</th>\n",
       "    </tr>\n",
       "  </thead>\n",
       "  <tbody>\n",
       "    <tr>\n",
       "      <th>0</th>\n",
       "      <td>3 Idiots</td>\n",
       "      <td>2009</td>\n",
       "      <td>Comedy, Drama</td>\n",
       "      <td>[Two, friends, are, searching, for, their, lon...</td>\n",
       "      <td>Rajkumar Hirani</td>\n",
       "      <td>Aamir Khan</td>\n",
       "      <td>Madhavan</td>\n",
       "      <td>Mona Singh</td>\n",
       "    </tr>\n",
       "    <tr>\n",
       "      <th>1</th>\n",
       "      <td>Like Stars on Earth</td>\n",
       "      <td>2007</td>\n",
       "      <td>Drama, Family</td>\n",
       "      <td>[An, eight-year-old, boy, is, thought, to, be,...</td>\n",
       "      <td>Aamir Khan</td>\n",
       "      <td>Amole Gupte</td>\n",
       "      <td>Darsheel Safary</td>\n",
       "      <td>Aamir Khan</td>\n",
       "    </tr>\n",
       "  </tbody>\n",
       "</table>\n",
       "</div>"
      ],
      "text/plain": [
       "            movie_name  year          genre  \\\n",
       "0             3 Idiots  2009  Comedy, Drama   \n",
       "1  Like Stars on Earth  2007  Drama, Family   \n",
       "\n",
       "                                            Overview         Director  \\\n",
       "0  [Two, friends, are, searching, for, their, lon...  Rajkumar Hirani   \n",
       "1  [An, eight-year-old, boy, is, thought, to, be,...       Aamir Khan   \n",
       "\n",
       "        Actor1           Actor2      Actor3  \n",
       "0   Aamir Khan         Madhavan  Mona Singh  \n",
       "1  Amole Gupte  Darsheel Safary  Aamir Khan  "
      ]
     },
     "execution_count": 23,
     "metadata": {},
     "output_type": "execute_result"
    }
   ],
   "source": [
    "movies.head(2)"
   ]
  },
  {
   "cell_type": "code",
   "execution_count": 24,
   "id": "foreign-relevance",
   "metadata": {
    "execution": {
     "iopub.execute_input": "2021-07-07T16:44:33.840143Z",
     "iopub.status.busy": "2021-07-07T16:44:33.839591Z",
     "iopub.status.idle": "2021-07-07T16:44:33.846952Z",
     "shell.execute_reply": "2021-07-07T16:44:33.847486Z",
     "shell.execute_reply.started": "2021-07-07T15:22:31.751738Z"
    },
    "papermill": {
     "duration": 0.046389,
     "end_time": "2021-07-07T16:44:33.847631",
     "exception": false,
     "start_time": "2021-07-07T16:44:33.801242",
     "status": "completed"
    },
    "tags": []
   },
   "outputs": [
    {
     "name": "stderr",
     "output_type": "stream",
     "text": [
      "/opt/conda/lib/python3.7/site-packages/ipykernel_launcher.py:2: SettingWithCopyWarning: \n",
      "A value is trying to be set on a copy of a slice from a DataFrame.\n",
      "Try using .loc[row_indexer,col_indexer] = value instead\n",
      "\n",
      "See the caveats in the documentation: https://pandas.pydata.org/pandas-docs/stable/user_guide/indexing.html#returning-a-view-versus-a-copy\n",
      "  \n"
     ]
    }
   ],
   "source": [
    "# splitting the string col 'genre' into list\n",
    "movies['genre'] = movies['genre'].apply(lambda x:x.replace(\",\",\"\").split())"
   ]
  },
  {
   "cell_type": "code",
   "execution_count": 25,
   "id": "funky-princeton",
   "metadata": {
    "execution": {
     "iopub.execute_input": "2021-07-07T16:44:33.923652Z",
     "iopub.status.busy": "2021-07-07T16:44:33.922811Z",
     "iopub.status.idle": "2021-07-07T16:44:33.936353Z",
     "shell.execute_reply": "2021-07-07T16:44:33.935789Z",
     "shell.execute_reply.started": "2021-07-07T15:22:36.500914Z"
    },
    "papermill": {
     "duration": 0.052579,
     "end_time": "2021-07-07T16:44:33.936481",
     "exception": false,
     "start_time": "2021-07-07T16:44:33.883902",
     "status": "completed"
    },
    "tags": []
   },
   "outputs": [
    {
     "data": {
      "text/html": [
       "<div>\n",
       "<style scoped>\n",
       "    .dataframe tbody tr th:only-of-type {\n",
       "        vertical-align: middle;\n",
       "    }\n",
       "\n",
       "    .dataframe tbody tr th {\n",
       "        vertical-align: top;\n",
       "    }\n",
       "\n",
       "    .dataframe thead th {\n",
       "        text-align: right;\n",
       "    }\n",
       "</style>\n",
       "<table border=\"1\" class=\"dataframe\">\n",
       "  <thead>\n",
       "    <tr style=\"text-align: right;\">\n",
       "      <th></th>\n",
       "      <th>movie_name</th>\n",
       "      <th>year</th>\n",
       "      <th>genre</th>\n",
       "      <th>Overview</th>\n",
       "      <th>Director</th>\n",
       "      <th>Actor1</th>\n",
       "      <th>Actor2</th>\n",
       "      <th>Actor3</th>\n",
       "    </tr>\n",
       "  </thead>\n",
       "  <tbody>\n",
       "    <tr>\n",
       "      <th>0</th>\n",
       "      <td>3 Idiots</td>\n",
       "      <td>2009</td>\n",
       "      <td>[Comedy, Drama]</td>\n",
       "      <td>[Two, friends, are, searching, for, their, lon...</td>\n",
       "      <td>Rajkumar Hirani</td>\n",
       "      <td>Aamir Khan</td>\n",
       "      <td>Madhavan</td>\n",
       "      <td>Mona Singh</td>\n",
       "    </tr>\n",
       "    <tr>\n",
       "      <th>1</th>\n",
       "      <td>Like Stars on Earth</td>\n",
       "      <td>2007</td>\n",
       "      <td>[Drama, Family]</td>\n",
       "      <td>[An, eight-year-old, boy, is, thought, to, be,...</td>\n",
       "      <td>Aamir Khan</td>\n",
       "      <td>Amole Gupte</td>\n",
       "      <td>Darsheel Safary</td>\n",
       "      <td>Aamir Khan</td>\n",
       "    </tr>\n",
       "  </tbody>\n",
       "</table>\n",
       "</div>"
      ],
      "text/plain": [
       "            movie_name  year            genre  \\\n",
       "0             3 Idiots  2009  [Comedy, Drama]   \n",
       "1  Like Stars on Earth  2007  [Drama, Family]   \n",
       "\n",
       "                                            Overview         Director  \\\n",
       "0  [Two, friends, are, searching, for, their, lon...  Rajkumar Hirani   \n",
       "1  [An, eight-year-old, boy, is, thought, to, be,...       Aamir Khan   \n",
       "\n",
       "        Actor1           Actor2      Actor3  \n",
       "0   Aamir Khan         Madhavan  Mona Singh  \n",
       "1  Amole Gupte  Darsheel Safary  Aamir Khan  "
      ]
     },
     "execution_count": 25,
     "metadata": {},
     "output_type": "execute_result"
    }
   ],
   "source": [
    "movies.head(2)"
   ]
  },
  {
   "cell_type": "code",
   "execution_count": 26,
   "id": "military-alberta",
   "metadata": {
    "execution": {
     "iopub.execute_input": "2021-07-07T16:44:34.043651Z",
     "iopub.status.busy": "2021-07-07T16:44:34.042995Z",
     "iopub.status.idle": "2021-07-07T16:44:34.045844Z",
     "shell.execute_reply": "2021-07-07T16:44:34.046321Z",
     "shell.execute_reply.started": "2021-07-07T15:22:43.441832Z"
    },
    "papermill": {
     "duration": 0.066589,
     "end_time": "2021-07-07T16:44:34.046479",
     "exception": false,
     "start_time": "2021-07-07T16:44:33.979890",
     "status": "completed"
    },
    "tags": []
   },
   "outputs": [
    {
     "name": "stderr",
     "output_type": "stream",
     "text": [
      "/opt/conda/lib/python3.7/site-packages/ipykernel_launcher.py:2: SettingWithCopyWarning: \n",
      "A value is trying to be set on a copy of a slice from a DataFrame.\n",
      "Try using .loc[row_indexer,col_indexer] = value instead\n",
      "\n",
      "See the caveats in the documentation: https://pandas.pydata.org/pandas-docs/stable/user_guide/indexing.html#returning-a-view-versus-a-copy\n",
      "  \n",
      "/opt/conda/lib/python3.7/site-packages/ipykernel_launcher.py:3: SettingWithCopyWarning: \n",
      "A value is trying to be set on a copy of a slice from a DataFrame.\n",
      "Try using .loc[row_indexer,col_indexer] = value instead\n",
      "\n",
      "See the caveats in the documentation: https://pandas.pydata.org/pandas-docs/stable/user_guide/indexing.html#returning-a-view-versus-a-copy\n",
      "  This is separate from the ipykernel package so we can avoid doing imports until\n",
      "/opt/conda/lib/python3.7/site-packages/ipykernel_launcher.py:4: SettingWithCopyWarning: \n",
      "A value is trying to be set on a copy of a slice from a DataFrame.\n",
      "Try using .loc[row_indexer,col_indexer] = value instead\n",
      "\n",
      "See the caveats in the documentation: https://pandas.pydata.org/pandas-docs/stable/user_guide/indexing.html#returning-a-view-versus-a-copy\n",
      "  after removing the cwd from sys.path.\n",
      "/opt/conda/lib/python3.7/site-packages/ipykernel_launcher.py:5: SettingWithCopyWarning: \n",
      "A value is trying to be set on a copy of a slice from a DataFrame.\n",
      "Try using .loc[row_indexer,col_indexer] = value instead\n",
      "\n",
      "See the caveats in the documentation: https://pandas.pydata.org/pandas-docs/stable/user_guide/indexing.html#returning-a-view-versus-a-copy\n",
      "  \"\"\"\n"
     ]
    }
   ],
   "source": [
    "# remove the spaces in one name for all actors & director cols, then split those string cols into list\n",
    "movies['Actor1'] = movies['Actor1'].apply(lambda x:x.replace(\" \",\"\").split())\n",
    "movies['Actor2'] = movies['Actor2'].apply(lambda x:x.replace(\" \",\"\").split())\n",
    "movies['Actor3'] = movies['Actor3'].apply(lambda x:x.replace(\" \",\"\").split())\n",
    "movies['Director'] = movies['Director'].apply(lambda x:x.replace(\" \",\"\").split())"
   ]
  },
  {
   "cell_type": "code",
   "execution_count": 27,
   "id": "adaptive-schedule",
   "metadata": {
    "execution": {
     "iopub.execute_input": "2021-07-07T16:44:34.122824Z",
     "iopub.status.busy": "2021-07-07T16:44:34.122188Z",
     "iopub.status.idle": "2021-07-07T16:44:34.143420Z",
     "shell.execute_reply": "2021-07-07T16:44:34.143867Z",
     "shell.execute_reply.started": "2021-07-07T15:22:47.181141Z"
    },
    "papermill": {
     "duration": 0.060601,
     "end_time": "2021-07-07T16:44:34.144016",
     "exception": false,
     "start_time": "2021-07-07T16:44:34.083415",
     "status": "completed"
    },
    "tags": []
   },
   "outputs": [
    {
     "data": {
      "text/html": [
       "<div>\n",
       "<style scoped>\n",
       "    .dataframe tbody tr th:only-of-type {\n",
       "        vertical-align: middle;\n",
       "    }\n",
       "\n",
       "    .dataframe tbody tr th {\n",
       "        vertical-align: top;\n",
       "    }\n",
       "\n",
       "    .dataframe thead th {\n",
       "        text-align: right;\n",
       "    }\n",
       "</style>\n",
       "<table border=\"1\" class=\"dataframe\">\n",
       "  <thead>\n",
       "    <tr style=\"text-align: right;\">\n",
       "      <th></th>\n",
       "      <th>movie_name</th>\n",
       "      <th>year</th>\n",
       "      <th>genre</th>\n",
       "      <th>Overview</th>\n",
       "      <th>Director</th>\n",
       "      <th>Actor1</th>\n",
       "      <th>Actor2</th>\n",
       "      <th>Actor3</th>\n",
       "    </tr>\n",
       "  </thead>\n",
       "  <tbody>\n",
       "    <tr>\n",
       "      <th>0</th>\n",
       "      <td>3 Idiots</td>\n",
       "      <td>2009</td>\n",
       "      <td>[Comedy, Drama]</td>\n",
       "      <td>[Two, friends, are, searching, for, their, lon...</td>\n",
       "      <td>[RajkumarHirani]</td>\n",
       "      <td>[AamirKhan]</td>\n",
       "      <td>[Madhavan]</td>\n",
       "      <td>[MonaSingh]</td>\n",
       "    </tr>\n",
       "    <tr>\n",
       "      <th>1</th>\n",
       "      <td>Like Stars on Earth</td>\n",
       "      <td>2007</td>\n",
       "      <td>[Drama, Family]</td>\n",
       "      <td>[An, eight-year-old, boy, is, thought, to, be,...</td>\n",
       "      <td>[AamirKhan]</td>\n",
       "      <td>[AmoleGupte]</td>\n",
       "      <td>[DarsheelSafary]</td>\n",
       "      <td>[AamirKhan]</td>\n",
       "    </tr>\n",
       "    <tr>\n",
       "      <th>2</th>\n",
       "      <td>PK</td>\n",
       "      <td>2014</td>\n",
       "      <td>[Comedy, Drama, Musical]</td>\n",
       "      <td>[An, alien, on, Earth, loses, the, only, devic...</td>\n",
       "      <td>[RajkumarHirani]</td>\n",
       "      <td>[AamirKhan]</td>\n",
       "      <td>[AnushkaSharma]</td>\n",
       "      <td>[SanjayDutt]</td>\n",
       "    </tr>\n",
       "    <tr>\n",
       "      <th>3</th>\n",
       "      <td>Dangal</td>\n",
       "      <td>2016</td>\n",
       "      <td>[Action, Biography, Drama]</td>\n",
       "      <td>[Former, wrestler, and, his, two, wrestler, da...</td>\n",
       "      <td>[NiteshTiwari]</td>\n",
       "      <td>[AamirKhan]</td>\n",
       "      <td>[SakshiTanwar]</td>\n",
       "      <td>[FatimaSanaShaikh]</td>\n",
       "    </tr>\n",
       "    <tr>\n",
       "      <th>4</th>\n",
       "      <td>Radhe</td>\n",
       "      <td>2021</td>\n",
       "      <td>[Action, Crime, Thriller]</td>\n",
       "      <td>[After, taking, the, dreaded, gangster, Gani, ...</td>\n",
       "      <td>[PrabhuDeva]</td>\n",
       "      <td>[SalmanKhan]</td>\n",
       "      <td>[DishaPatani]</td>\n",
       "      <td>[RandeepHooda]</td>\n",
       "    </tr>\n",
       "  </tbody>\n",
       "</table>\n",
       "</div>"
      ],
      "text/plain": [
       "            movie_name  year                       genre  \\\n",
       "0             3 Idiots  2009             [Comedy, Drama]   \n",
       "1  Like Stars on Earth  2007             [Drama, Family]   \n",
       "2                   PK  2014    [Comedy, Drama, Musical]   \n",
       "3               Dangal  2016  [Action, Biography, Drama]   \n",
       "4                Radhe  2021   [Action, Crime, Thriller]   \n",
       "\n",
       "                                            Overview          Director  \\\n",
       "0  [Two, friends, are, searching, for, their, lon...  [RajkumarHirani]   \n",
       "1  [An, eight-year-old, boy, is, thought, to, be,...       [AamirKhan]   \n",
       "2  [An, alien, on, Earth, loses, the, only, devic...  [RajkumarHirani]   \n",
       "3  [Former, wrestler, and, his, two, wrestler, da...    [NiteshTiwari]   \n",
       "4  [After, taking, the, dreaded, gangster, Gani, ...      [PrabhuDeva]   \n",
       "\n",
       "         Actor1            Actor2              Actor3  \n",
       "0   [AamirKhan]        [Madhavan]         [MonaSingh]  \n",
       "1  [AmoleGupte]  [DarsheelSafary]         [AamirKhan]  \n",
       "2   [AamirKhan]   [AnushkaSharma]        [SanjayDutt]  \n",
       "3   [AamirKhan]    [SakshiTanwar]  [FatimaSanaShaikh]  \n",
       "4  [SalmanKhan]     [DishaPatani]      [RandeepHooda]  "
      ]
     },
     "execution_count": 27,
     "metadata": {},
     "output_type": "execute_result"
    }
   ],
   "source": [
    "movies.head()"
   ]
  },
  {
   "cell_type": "code",
   "execution_count": 28,
   "id": "promotional-annex",
   "metadata": {
    "execution": {
     "iopub.execute_input": "2021-07-07T16:44:34.220992Z",
     "iopub.status.busy": "2021-07-07T16:44:34.220408Z",
     "iopub.status.idle": "2021-07-07T16:44:34.235157Z",
     "shell.execute_reply": "2021-07-07T16:44:34.235678Z",
     "shell.execute_reply.started": "2021-07-07T15:23:09.441009Z"
    },
    "papermill": {
     "duration": 0.054721,
     "end_time": "2021-07-07T16:44:34.235824",
     "exception": false,
     "start_time": "2021-07-07T16:44:34.181103",
     "status": "completed"
    },
    "tags": []
   },
   "outputs": [],
   "source": [
    "# to concatenate all cols into a single col 'tags'\n",
    "movies['tags']=movies['genre']+movies['Overview']+movies['Director']+movies['Actor1']+movies['Actor2']+movies['Actor3']"
   ]
  },
  {
   "cell_type": "code",
   "execution_count": 29,
   "id": "detected-geneva",
   "metadata": {
    "execution": {
     "iopub.execute_input": "2021-07-07T16:44:34.326037Z",
     "iopub.status.busy": "2021-07-07T16:44:34.325229Z",
     "iopub.status.idle": "2021-07-07T16:44:34.341384Z",
     "shell.execute_reply": "2021-07-07T16:44:34.341878Z",
     "shell.execute_reply.started": "2021-07-07T15:49:54.495932Z"
    },
    "papermill": {
     "duration": 0.063336,
     "end_time": "2021-07-07T16:44:34.342063",
     "exception": false,
     "start_time": "2021-07-07T16:44:34.278727",
     "status": "completed"
    },
    "tags": []
   },
   "outputs": [
    {
     "data": {
      "text/html": [
       "<div>\n",
       "<style scoped>\n",
       "    .dataframe tbody tr th:only-of-type {\n",
       "        vertical-align: middle;\n",
       "    }\n",
       "\n",
       "    .dataframe tbody tr th {\n",
       "        vertical-align: top;\n",
       "    }\n",
       "\n",
       "    .dataframe thead th {\n",
       "        text-align: right;\n",
       "    }\n",
       "</style>\n",
       "<table border=\"1\" class=\"dataframe\">\n",
       "  <thead>\n",
       "    <tr style=\"text-align: right;\">\n",
       "      <th></th>\n",
       "      <th>movie_name</th>\n",
       "      <th>year</th>\n",
       "      <th>genre</th>\n",
       "      <th>Overview</th>\n",
       "      <th>Director</th>\n",
       "      <th>Actor1</th>\n",
       "      <th>Actor2</th>\n",
       "      <th>Actor3</th>\n",
       "      <th>tags</th>\n",
       "    </tr>\n",
       "  </thead>\n",
       "  <tbody>\n",
       "    <tr>\n",
       "      <th>313</th>\n",
       "      <td>Gadar: Ek Prem Katha</td>\n",
       "      <td>2001</td>\n",
       "      <td>[Action, Drama, Romance]</td>\n",
       "      <td>[Set, during, the, Partition, of, India, in, 1...</td>\n",
       "      <td>[AnilSharma]</td>\n",
       "      <td>[SunnyDeol]</td>\n",
       "      <td>[AmeeshaPatel]</td>\n",
       "      <td>[AmrishPuri]</td>\n",
       "      <td>[Action, Drama, Romance, Set, during, the, Par...</td>\n",
       "    </tr>\n",
       "  </tbody>\n",
       "</table>\n",
       "</div>"
      ],
      "text/plain": [
       "               movie_name  year                     genre  \\\n",
       "313  Gadar: Ek Prem Katha  2001  [Action, Drama, Romance]   \n",
       "\n",
       "                                              Overview      Director  \\\n",
       "313  [Set, during, the, Partition, of, India, in, 1...  [AnilSharma]   \n",
       "\n",
       "          Actor1          Actor2        Actor3  \\\n",
       "313  [SunnyDeol]  [AmeeshaPatel]  [AmrishPuri]   \n",
       "\n",
       "                                                  tags  \n",
       "313  [Action, Drama, Romance, Set, during, the, Par...  "
      ]
     },
     "execution_count": 29,
     "metadata": {},
     "output_type": "execute_result"
    }
   ],
   "source": [
    "movies.sample()"
   ]
  },
  {
   "cell_type": "code",
   "execution_count": 30,
   "id": "occasional-determination",
   "metadata": {
    "execution": {
     "iopub.execute_input": "2021-07-07T16:44:34.427416Z",
     "iopub.status.busy": "2021-07-07T16:44:34.426844Z",
     "iopub.status.idle": "2021-07-07T16:44:34.431374Z",
     "shell.execute_reply": "2021-07-07T16:44:34.431779Z",
     "shell.execute_reply.started": "2021-07-07T15:23:38.646341Z"
    },
    "papermill": {
     "duration": 0.044764,
     "end_time": "2021-07-07T16:44:34.431933",
     "exception": false,
     "start_time": "2021-07-07T16:44:34.387169",
     "status": "completed"
    },
    "tags": []
   },
   "outputs": [],
   "source": [
    "# to delete all cols 'genre','Overview','Director','Actor1','Actor2','Actor3'\n",
    "new=movies.drop(columns=['genre','Overview','Director','Actor1','Actor2','Actor3'])"
   ]
  },
  {
   "cell_type": "code",
   "execution_count": 31,
   "id": "sunset-terrace",
   "metadata": {
    "execution": {
     "iopub.execute_input": "2021-07-07T16:44:34.509634Z",
     "iopub.status.busy": "2021-07-07T16:44:34.509063Z",
     "iopub.status.idle": "2021-07-07T16:44:34.520915Z",
     "shell.execute_reply": "2021-07-07T16:44:34.520339Z",
     "shell.execute_reply.started": "2021-07-07T15:23:46.121983Z"
    },
    "papermill": {
     "duration": 0.051525,
     "end_time": "2021-07-07T16:44:34.521043",
     "exception": false,
     "start_time": "2021-07-07T16:44:34.469518",
     "status": "completed"
    },
    "tags": []
   },
   "outputs": [
    {
     "data": {
      "text/html": [
       "<div>\n",
       "<style scoped>\n",
       "    .dataframe tbody tr th:only-of-type {\n",
       "        vertical-align: middle;\n",
       "    }\n",
       "\n",
       "    .dataframe tbody tr th {\n",
       "        vertical-align: top;\n",
       "    }\n",
       "\n",
       "    .dataframe thead th {\n",
       "        text-align: right;\n",
       "    }\n",
       "</style>\n",
       "<table border=\"1\" class=\"dataframe\">\n",
       "  <thead>\n",
       "    <tr style=\"text-align: right;\">\n",
       "      <th></th>\n",
       "      <th>movie_name</th>\n",
       "      <th>year</th>\n",
       "      <th>tags</th>\n",
       "    </tr>\n",
       "  </thead>\n",
       "  <tbody>\n",
       "    <tr>\n",
       "      <th>0</th>\n",
       "      <td>3 Idiots</td>\n",
       "      <td>2009</td>\n",
       "      <td>[Comedy, Drama, Two, friends, are, searching, ...</td>\n",
       "    </tr>\n",
       "    <tr>\n",
       "      <th>1</th>\n",
       "      <td>Like Stars on Earth</td>\n",
       "      <td>2007</td>\n",
       "      <td>[Drama, Family, An, eight-year-old, boy, is, t...</td>\n",
       "    </tr>\n",
       "    <tr>\n",
       "      <th>2</th>\n",
       "      <td>PK</td>\n",
       "      <td>2014</td>\n",
       "      <td>[Comedy, Drama, Musical, An, alien, on, Earth,...</td>\n",
       "    </tr>\n",
       "    <tr>\n",
       "      <th>3</th>\n",
       "      <td>Dangal</td>\n",
       "      <td>2016</td>\n",
       "      <td>[Action, Biography, Drama, Former, wrestler, a...</td>\n",
       "    </tr>\n",
       "    <tr>\n",
       "      <th>4</th>\n",
       "      <td>Radhe</td>\n",
       "      <td>2021</td>\n",
       "      <td>[Action, Crime, Thriller, After, taking, the, ...</td>\n",
       "    </tr>\n",
       "  </tbody>\n",
       "</table>\n",
       "</div>"
      ],
      "text/plain": [
       "            movie_name  year  \\\n",
       "0             3 Idiots  2009   \n",
       "1  Like Stars on Earth  2007   \n",
       "2                   PK  2014   \n",
       "3               Dangal  2016   \n",
       "4                Radhe  2021   \n",
       "\n",
       "                                                tags  \n",
       "0  [Comedy, Drama, Two, friends, are, searching, ...  \n",
       "1  [Drama, Family, An, eight-year-old, boy, is, t...  \n",
       "2  [Comedy, Drama, Musical, An, alien, on, Earth,...  \n",
       "3  [Action, Biography, Drama, Former, wrestler, a...  \n",
       "4  [Action, Crime, Thriller, After, taking, the, ...  "
      ]
     },
     "execution_count": 31,
     "metadata": {},
     "output_type": "execute_result"
    }
   ],
   "source": [
    "# final new dataframe having cols movie_name,year,tags\n",
    "new.head()"
   ]
  },
  {
   "cell_type": "code",
   "execution_count": 32,
   "id": "outstanding-valuable",
   "metadata": {
    "execution": {
     "iopub.execute_input": "2021-07-07T16:44:34.613026Z",
     "iopub.status.busy": "2021-07-07T16:44:34.612264Z",
     "iopub.status.idle": "2021-07-07T16:44:34.615402Z",
     "shell.execute_reply": "2021-07-07T16:44:34.615912Z",
     "shell.execute_reply.started": "2021-07-07T15:24:12.521924Z"
    },
    "papermill": {
     "duration": 0.056094,
     "end_time": "2021-07-07T16:44:34.616059",
     "exception": false,
     "start_time": "2021-07-07T16:44:34.559965",
     "status": "completed"
    },
    "tags": []
   },
   "outputs": [
    {
     "data": {
      "text/plain": [
       "['Comedy',\n",
       " 'Drama',\n",
       " 'Two',\n",
       " 'friends',\n",
       " 'are',\n",
       " 'searching',\n",
       " 'for',\n",
       " 'their',\n",
       " 'long',\n",
       " 'lost',\n",
       " 'companion.',\n",
       " 'They',\n",
       " 'revisit',\n",
       " 'their',\n",
       " 'college',\n",
       " 'days',\n",
       " 'and',\n",
       " 'recall',\n",
       " 'the',\n",
       " 'memories',\n",
       " 'of',\n",
       " 'their',\n",
       " 'friend',\n",
       " 'who',\n",
       " 'inspired',\n",
       " 'them',\n",
       " 'to',\n",
       " 'think',\n",
       " 'differently,',\n",
       " 'even',\n",
       " 'as',\n",
       " 'the',\n",
       " 'rest',\n",
       " 'of',\n",
       " 'the',\n",
       " 'world',\n",
       " 'called',\n",
       " 'them',\n",
       " '\"idiots\".',\n",
       " 'RajkumarHirani',\n",
       " 'AamirKhan',\n",
       " 'Madhavan',\n",
       " 'MonaSingh']"
      ]
     },
     "execution_count": 32,
     "metadata": {},
     "output_type": "execute_result"
    }
   ],
   "source": [
    "new['tags'][0]"
   ]
  },
  {
   "cell_type": "code",
   "execution_count": 33,
   "id": "waiting-competition",
   "metadata": {
    "execution": {
     "iopub.execute_input": "2021-07-07T16:44:34.725533Z",
     "iopub.status.busy": "2021-07-07T16:44:34.717108Z",
     "iopub.status.idle": "2021-07-07T16:44:34.734295Z",
     "shell.execute_reply": "2021-07-07T16:44:34.734791Z",
     "shell.execute_reply.started": "2021-07-07T15:24:24.121687Z"
    },
    "papermill": {
     "duration": 0.066878,
     "end_time": "2021-07-07T16:44:34.734962",
     "exception": false,
     "start_time": "2021-07-07T16:44:34.668084",
     "status": "completed"
    },
    "tags": []
   },
   "outputs": [
    {
     "data": {
      "text/html": [
       "<div>\n",
       "<style scoped>\n",
       "    .dataframe tbody tr th:only-of-type {\n",
       "        vertical-align: middle;\n",
       "    }\n",
       "\n",
       "    .dataframe tbody tr th {\n",
       "        vertical-align: top;\n",
       "    }\n",
       "\n",
       "    .dataframe thead th {\n",
       "        text-align: right;\n",
       "    }\n",
       "</style>\n",
       "<table border=\"1\" class=\"dataframe\">\n",
       "  <thead>\n",
       "    <tr style=\"text-align: right;\">\n",
       "      <th></th>\n",
       "      <th>movie_name</th>\n",
       "      <th>year</th>\n",
       "      <th>tags</th>\n",
       "    </tr>\n",
       "  </thead>\n",
       "  <tbody>\n",
       "    <tr>\n",
       "      <th>0</th>\n",
       "      <td>3 Idiots</td>\n",
       "      <td>2009</td>\n",
       "      <td>Comedy Drama Two friends are searching for the...</td>\n",
       "    </tr>\n",
       "    <tr>\n",
       "      <th>1</th>\n",
       "      <td>Like Stars on Earth</td>\n",
       "      <td>2007</td>\n",
       "      <td>Drama Family An eight-year-old boy is thought ...</td>\n",
       "    </tr>\n",
       "    <tr>\n",
       "      <th>2</th>\n",
       "      <td>PK</td>\n",
       "      <td>2014</td>\n",
       "      <td>Comedy Drama Musical An alien on Earth loses t...</td>\n",
       "    </tr>\n",
       "    <tr>\n",
       "      <th>3</th>\n",
       "      <td>Dangal</td>\n",
       "      <td>2016</td>\n",
       "      <td>Action Biography Drama Former wrestler and his...</td>\n",
       "    </tr>\n",
       "    <tr>\n",
       "      <th>4</th>\n",
       "      <td>Radhe</td>\n",
       "      <td>2021</td>\n",
       "      <td>Action Crime Thriller After taking the dreaded...</td>\n",
       "    </tr>\n",
       "  </tbody>\n",
       "</table>\n",
       "</div>"
      ],
      "text/plain": [
       "            movie_name  year  \\\n",
       "0             3 Idiots  2009   \n",
       "1  Like Stars on Earth  2007   \n",
       "2                   PK  2014   \n",
       "3               Dangal  2016   \n",
       "4                Radhe  2021   \n",
       "\n",
       "                                                tags  \n",
       "0  Comedy Drama Two friends are searching for the...  \n",
       "1  Drama Family An eight-year-old boy is thought ...  \n",
       "2  Comedy Drama Musical An alien on Earth loses t...  \n",
       "3  Action Biography Drama Former wrestler and his...  \n",
       "4  Action Crime Thriller After taking the dreaded...  "
      ]
     },
     "execution_count": 33,
     "metadata": {},
     "output_type": "execute_result"
    }
   ],
   "source": [
    "# to convert the list 'tags' col into strings\n",
    "new['tags']=new['tags'].apply(lambda x: \" \".join(x))\n",
    "new.head()"
   ]
  },
  {
   "cell_type": "code",
   "execution_count": 34,
   "id": "necessary-lover",
   "metadata": {
    "execution": {
     "iopub.execute_input": "2021-07-07T16:44:34.823663Z",
     "iopub.status.busy": "2021-07-07T16:44:34.822813Z",
     "iopub.status.idle": "2021-07-07T16:44:34.828194Z",
     "shell.execute_reply": "2021-07-07T16:44:34.828702Z",
     "shell.execute_reply.started": "2021-07-07T15:24:27.920833Z"
    },
    "papermill": {
     "duration": 0.048139,
     "end_time": "2021-07-07T16:44:34.828851",
     "exception": false,
     "start_time": "2021-07-07T16:44:34.780712",
     "status": "completed"
    },
    "tags": []
   },
   "outputs": [
    {
     "data": {
      "text/plain": [
       "'Action Drama History Based on an incredible true story of the Battle of Saragarhi in which an army of 21 Sikhs fought against 10,000 Afghans in 1897. AnuragSingh AkshayKumar ParineetiChopra SuvinderVicky'"
      ]
     },
     "execution_count": 34,
     "metadata": {},
     "output_type": "execute_result"
    }
   ],
   "source": [
    "new['tags'][200]"
   ]
  },
  {
   "cell_type": "code",
   "execution_count": 35,
   "id": "confused-supervisor",
   "metadata": {
    "execution": {
     "iopub.execute_input": "2021-07-07T16:44:34.916778Z",
     "iopub.status.busy": "2021-07-07T16:44:34.915729Z",
     "iopub.status.idle": "2021-07-07T16:44:34.921880Z",
     "shell.execute_reply": "2021-07-07T16:44:34.921305Z",
     "shell.execute_reply.started": "2021-07-07T15:24:34.501746Z"
    },
    "papermill": {
     "duration": 0.05149,
     "end_time": "2021-07-07T16:44:34.922023",
     "exception": false,
     "start_time": "2021-07-07T16:44:34.870533",
     "status": "completed"
    },
    "tags": []
   },
   "outputs": [
    {
     "data": {
      "text/plain": [
       "(2044, 3)"
      ]
     },
     "execution_count": 35,
     "metadata": {},
     "output_type": "execute_result"
    }
   ],
   "source": [
    "new.shape"
   ]
  },
  {
   "cell_type": "code",
   "execution_count": 36,
   "id": "eastern-taylor",
   "metadata": {
    "execution": {
     "iopub.execute_input": "2021-07-07T16:44:35.025042Z",
     "iopub.status.busy": "2021-07-07T16:44:35.024194Z",
     "iopub.status.idle": "2021-07-07T16:44:35.030759Z",
     "shell.execute_reply": "2021-07-07T16:44:35.031302Z",
     "shell.execute_reply.started": "2021-07-07T15:24:42.321794Z"
    },
    "papermill": {
     "duration": 0.050885,
     "end_time": "2021-07-07T16:44:35.031468",
     "exception": false,
     "start_time": "2021-07-07T16:44:34.980583",
     "status": "completed"
    },
    "tags": []
   },
   "outputs": [
    {
     "data": {
      "text/plain": [
       "453691"
      ]
     },
     "execution_count": 36,
     "metadata": {},
     "output_type": "execute_result"
    }
   ],
   "source": [
    "# to add all the words of 'tags' col into a huge string y & print the length of y\n",
    "x=new['tags'].values.tolist()\n",
    "y=''\n",
    "for i in x:\n",
    "    y=y+i\n",
    "    \n",
    "len(y)"
   ]
  },
  {
   "cell_type": "code",
   "execution_count": 37,
   "id": "advanced-jacob",
   "metadata": {
    "execution": {
     "iopub.execute_input": "2021-07-07T16:44:35.114041Z",
     "iopub.status.busy": "2021-07-07T16:44:35.113191Z",
     "iopub.status.idle": "2021-07-07T16:44:35.131700Z",
     "shell.execute_reply": "2021-07-07T16:44:35.131255Z",
     "shell.execute_reply.started": "2021-07-07T15:24:49.941560Z"
    },
    "papermill": {
     "duration": 0.06037,
     "end_time": "2021-07-07T16:44:35.131831",
     "exception": false,
     "start_time": "2021-07-07T16:44:35.071461",
     "status": "completed"
    },
    "tags": []
   },
   "outputs": [
    {
     "data": {
      "text/plain": [
       "14391"
      ]
     },
     "execution_count": 37,
     "metadata": {},
     "output_type": "execute_result"
    }
   ],
   "source": [
    "# considering all the distinct words of y string & count its length\n",
    "len(set(y.split()))"
   ]
  },
  {
   "cell_type": "code",
   "execution_count": 38,
   "id": "needed-liver",
   "metadata": {
    "execution": {
     "iopub.execute_input": "2021-07-07T16:44:35.215062Z",
     "iopub.status.busy": "2021-07-07T16:44:35.214508Z",
     "iopub.status.idle": "2021-07-07T16:44:36.060465Z",
     "shell.execute_reply": "2021-07-07T16:44:36.060940Z",
     "shell.execute_reply.started": "2021-07-07T15:24:58.548794Z"
    },
    "papermill": {
     "duration": 0.889503,
     "end_time": "2021-07-07T16:44:36.061099",
     "exception": false,
     "start_time": "2021-07-07T16:44:35.171596",
     "status": "completed"
    },
    "tags": []
   },
   "outputs": [],
   "source": [
    "# taking top 12000 words which are frequently occured in y string\n",
    "from sklearn.feature_extraction.text import CountVectorizer\n",
    "cv= CountVectorizer(max_features=12000,stop_words='english')"
   ]
  },
  {
   "cell_type": "code",
   "execution_count": 39,
   "id": "cubic-paper",
   "metadata": {
    "execution": {
     "iopub.execute_input": "2021-07-07T16:44:36.144262Z",
     "iopub.status.busy": "2021-07-07T16:44:36.143716Z",
     "iopub.status.idle": "2021-07-07T16:44:36.284552Z",
     "shell.execute_reply": "2021-07-07T16:44:36.285046Z",
     "shell.execute_reply.started": "2021-07-07T15:25:06.761166Z"
    },
    "papermill": {
     "duration": 0.183452,
     "end_time": "2021-07-07T16:44:36.285222",
     "exception": false,
     "start_time": "2021-07-07T16:44:36.101770",
     "status": "completed"
    },
    "tags": []
   },
   "outputs": [],
   "source": [
    "# convert the dataframe into array of vectors\n",
    "vector = cv.fit_transform(new['tags']).toarray()"
   ]
  },
  {
   "cell_type": "code",
   "execution_count": 40,
   "id": "golden-arctic",
   "metadata": {
    "execution": {
     "iopub.execute_input": "2021-07-07T16:44:36.367199Z",
     "iopub.status.busy": "2021-07-07T16:44:36.366660Z",
     "iopub.status.idle": "2021-07-07T16:44:36.370581Z",
     "shell.execute_reply": "2021-07-07T16:44:36.371067Z",
     "shell.execute_reply.started": "2021-07-07T15:25:09.280940Z"
    },
    "papermill": {
     "duration": 0.04628,
     "end_time": "2021-07-07T16:44:36.371226",
     "exception": false,
     "start_time": "2021-07-07T16:44:36.324946",
     "status": "completed"
    },
    "tags": []
   },
   "outputs": [
    {
     "data": {
      "text/plain": [
       "(2044, 9849)"
      ]
     },
     "execution_count": 40,
     "metadata": {},
     "output_type": "execute_result"
    }
   ],
   "source": [
    "vector.shape\n",
    "# this vector is a sparse matrix where max values are 0"
   ]
  },
  {
   "cell_type": "code",
   "execution_count": 41,
   "id": "compressed-seminar",
   "metadata": {
    "execution": {
     "iopub.execute_input": "2021-07-07T16:44:36.453391Z",
     "iopub.status.busy": "2021-07-07T16:44:36.452853Z",
     "iopub.status.idle": "2021-07-07T16:44:37.385326Z",
     "shell.execute_reply": "2021-07-07T16:44:37.386086Z",
     "shell.execute_reply.started": "2021-07-07T15:25:20.901515Z"
    },
    "papermill": {
     "duration": 0.975662,
     "end_time": "2021-07-07T16:44:37.386356",
     "exception": false,
     "start_time": "2021-07-07T16:44:36.410694",
     "status": "completed"
    },
    "tags": []
   },
   "outputs": [],
   "source": [
    "# calculating the similarity in between 2 movies by the cosine distance\n",
    "from sklearn.metrics.pairwise import cosine_similarity\n",
    "similarity=cosine_similarity(vector)\n"
   ]
  },
  {
   "cell_type": "code",
   "execution_count": 42,
   "id": "laughing-trademark",
   "metadata": {
    "execution": {
     "iopub.execute_input": "2021-07-07T16:44:37.520857Z",
     "iopub.status.busy": "2021-07-07T16:44:37.520258Z",
     "iopub.status.idle": "2021-07-07T16:44:38.338310Z",
     "shell.execute_reply": "2021-07-07T16:44:38.339181Z",
     "shell.execute_reply.started": "2021-07-07T15:25:25.200582Z"
    },
    "papermill": {
     "duration": 0.875359,
     "end_time": "2021-07-07T16:44:38.339442",
     "exception": false,
     "start_time": "2021-07-07T16:44:37.464083",
     "status": "completed"
    },
    "tags": []
   },
   "outputs": [
    {
     "data": {
      "text/plain": [
       "(2044, 2044)"
      ]
     },
     "execution_count": 42,
     "metadata": {},
     "output_type": "execute_result"
    }
   ],
   "source": [
    "cosine_similarity(vector).shape"
   ]
  },
  {
   "cell_type": "code",
   "execution_count": 43,
   "id": "technical-thermal",
   "metadata": {
    "execution": {
     "iopub.execute_input": "2021-07-07T16:44:38.470092Z",
     "iopub.status.busy": "2021-07-07T16:44:38.469562Z",
     "iopub.status.idle": "2021-07-07T16:44:38.472495Z",
     "shell.execute_reply": "2021-07-07T16:44:38.471948Z",
     "shell.execute_reply.started": "2021-07-07T16:00:29.426049Z"
    },
    "papermill": {
     "duration": 0.056565,
     "end_time": "2021-07-07T16:44:38.472613",
     "exception": false,
     "start_time": "2021-07-07T16:44:38.416048",
     "status": "completed"
    },
    "tags": []
   },
   "outputs": [
    {
     "data": {
      "text/plain": [
       "array([1.        , 0.12247449, 0.16329932, ..., 0.        , 0.05892557,\n",
       "       0.08006408])"
      ]
     },
     "execution_count": 43,
     "metadata": {},
     "output_type": "execute_result"
    }
   ],
   "source": [
    "# similarity of 1st movie with all other movies including itself\n",
    "similarity[0]"
   ]
  },
  {
   "cell_type": "code",
   "execution_count": 44,
   "id": "initial-directory",
   "metadata": {
    "execution": {
     "iopub.execute_input": "2021-07-07T16:44:38.555128Z",
     "iopub.status.busy": "2021-07-07T16:44:38.554612Z",
     "iopub.status.idle": "2021-07-07T16:44:38.562421Z",
     "shell.execute_reply": "2021-07-07T16:44:38.562906Z",
     "shell.execute_reply.started": "2021-07-07T15:25:42.481426Z"
    },
    "papermill": {
     "duration": 0.050291,
     "end_time": "2021-07-07T16:44:38.563044",
     "exception": false,
     "start_time": "2021-07-07T16:44:38.512753",
     "status": "completed"
    },
    "tags": []
   },
   "outputs": [
    {
     "data": {
      "text/html": [
       "<div>\n",
       "<style scoped>\n",
       "    .dataframe tbody tr th:only-of-type {\n",
       "        vertical-align: middle;\n",
       "    }\n",
       "\n",
       "    .dataframe tbody tr th {\n",
       "        vertical-align: top;\n",
       "    }\n",
       "\n",
       "    .dataframe thead th {\n",
       "        text-align: right;\n",
       "    }\n",
       "</style>\n",
       "<table border=\"1\" class=\"dataframe\">\n",
       "  <thead>\n",
       "    <tr style=\"text-align: right;\">\n",
       "      <th></th>\n",
       "      <th>movie_name</th>\n",
       "      <th>year</th>\n",
       "      <th>tags</th>\n",
       "    </tr>\n",
       "  </thead>\n",
       "  <tbody>\n",
       "    <tr>\n",
       "      <th>1334</th>\n",
       "      <td>Saaya</td>\n",
       "      <td>2003</td>\n",
       "      <td>Drama Fantasy Mystery Tanya is a rich woman wh...</td>\n",
       "    </tr>\n",
       "  </tbody>\n",
       "</table>\n",
       "</div>"
      ],
      "text/plain": [
       "     movie_name  year                                               tags\n",
       "1334      Saaya  2003  Drama Fantasy Mystery Tanya is a rich woman wh..."
      ]
     },
     "execution_count": 44,
     "metadata": {},
     "output_type": "execute_result"
    }
   ],
   "source": [
    "new.sample()"
   ]
  },
  {
   "cell_type": "code",
   "execution_count": 45,
   "id": "improving-procurement",
   "metadata": {
    "execution": {
     "iopub.execute_input": "2021-07-07T16:44:38.645799Z",
     "iopub.status.busy": "2021-07-07T16:44:38.645278Z",
     "iopub.status.idle": "2021-07-07T16:44:38.651493Z",
     "shell.execute_reply": "2021-07-07T16:44:38.651029Z",
     "shell.execute_reply.started": "2021-07-07T15:26:23.482491Z"
    },
    "papermill": {
     "duration": 0.048412,
     "end_time": "2021-07-07T16:44:38.651617",
     "exception": false,
     "start_time": "2021-07-07T16:44:38.603205",
     "status": "completed"
    },
    "tags": []
   },
   "outputs": [
    {
     "data": {
      "text/plain": [
       "183"
      ]
     },
     "execution_count": 45,
     "metadata": {},
     "output_type": "execute_result"
    }
   ],
   "source": [
    "# index calculation of desired movie\n",
    "new[new['movie_name']==\"Ek Villain\"].index[0]"
   ]
  },
  {
   "cell_type": "code",
   "execution_count": 46,
   "id": "organized-quarterly",
   "metadata": {
    "execution": {
     "iopub.execute_input": "2021-07-07T16:44:38.734552Z",
     "iopub.status.busy": "2021-07-07T16:44:38.733942Z",
     "iopub.status.idle": "2021-07-07T16:44:38.738313Z",
     "shell.execute_reply": "2021-07-07T16:44:38.738719Z",
     "shell.execute_reply.started": "2021-07-07T15:26:56.881117Z"
    },
    "papermill": {
     "duration": 0.046949,
     "end_time": "2021-07-07T16:44:38.738854",
     "exception": false,
     "start_time": "2021-07-07T16:44:38.691905",
     "status": "completed"
    },
    "tags": []
   },
   "outputs": [],
   "source": [
    "# main function 'recommend' which uses the movie name & its corresponding index as input(for calculation) \n",
    "# & gives the 5 most similar movies as output\n",
    "def recommend(movie):\n",
    "    index=new[new['movie_name']==movie].index[0]\n",
    "    distances=sorted(list(enumerate(similarity[index])),reverse=True,key=lambda x:x[1])\n",
    "    for i in distances[1:6]:\n",
    "        movie=new.iloc[i[0]].movie_name\n",
    "        print(movie)"
   ]
  },
  {
   "cell_type": "code",
   "execution_count": 47,
   "id": "promotional-correction",
   "metadata": {
    "execution": {
     "iopub.execute_input": "2021-07-07T16:44:38.827319Z",
     "iopub.status.busy": "2021-07-07T16:44:38.826732Z",
     "iopub.status.idle": "2021-07-07T16:44:38.829357Z",
     "shell.execute_reply": "2021-07-07T16:44:38.829866Z",
     "shell.execute_reply.started": "2021-07-07T15:29:46.851753Z"
    },
    "papermill": {
     "duration": 0.050506,
     "end_time": "2021-07-07T16:44:38.830008",
     "exception": false,
     "start_time": "2021-07-07T16:44:38.779502",
     "status": "completed"
    },
    "tags": []
   },
   "outputs": [
    {
     "name": "stdout",
     "output_type": "stream",
     "text": [
      "Badlapur\n",
      "Saheb Biwi Aur Gangster Returns\n",
      "Kalyug\n",
      "Kaabil\n",
      "Sapoot\n"
     ]
    }
   ],
   "source": [
    "recommend('Ek Villain')"
   ]
  },
  {
   "cell_type": "code",
   "execution_count": 48,
   "id": "everyday-patrol",
   "metadata": {
    "execution": {
     "iopub.execute_input": "2021-07-07T16:44:38.913684Z",
     "iopub.status.busy": "2021-07-07T16:44:38.913134Z",
     "iopub.status.idle": "2021-07-07T16:44:38.921998Z",
     "shell.execute_reply": "2021-07-07T16:44:38.921243Z",
     "shell.execute_reply.started": "2021-07-07T15:29:58.281991Z"
    },
    "papermill": {
     "duration": 0.051624,
     "end_time": "2021-07-07T16:44:38.922210",
     "exception": false,
     "start_time": "2021-07-07T16:44:38.870586",
     "status": "completed"
    },
    "tags": []
   },
   "outputs": [
    {
     "name": "stdout",
     "output_type": "stream",
     "text": [
      "Dil Chahta Hai\n",
      "Chhichhore\n",
      "Ta Ra Rum Pum\n",
      "Zindagi Na Milegi Dobara\n",
      "Mere Baap Pehle Aap\n"
     ]
    }
   ],
   "source": [
    "recommend('3 Idiots')"
   ]
  },
  {
   "cell_type": "code",
   "execution_count": 49,
   "id": "certain-brush",
   "metadata": {
    "execution": {
     "iopub.execute_input": "2021-07-07T16:44:39.012614Z",
     "iopub.status.busy": "2021-07-07T16:44:39.011427Z",
     "iopub.status.idle": "2021-07-07T16:44:39.014864Z",
     "shell.execute_reply": "2021-07-07T16:44:39.015539Z",
     "shell.execute_reply.started": "2021-07-07T15:33:08.061925Z"
    },
    "papermill": {
     "duration": 0.051423,
     "end_time": "2021-07-07T16:44:39.015756",
     "exception": false,
     "start_time": "2021-07-07T16:44:38.964333",
     "status": "completed"
    },
    "tags": []
   },
   "outputs": [
    {
     "name": "stdout",
     "output_type": "stream",
     "text": [
      "Ashoka the Great\n",
      "PM Narendra Modi\n",
      "Mangal Pandey: The Rising\n",
      "Talaash: The Hunt Begins...\n",
      "The Legend of Bhagat Singh\n"
     ]
    }
   ],
   "source": [
    "recommend('Dangal')"
   ]
  },
  {
   "cell_type": "code",
   "execution_count": 50,
   "id": "assured-treatment",
   "metadata": {
    "execution": {
     "iopub.execute_input": "2021-07-07T16:44:39.101617Z",
     "iopub.status.busy": "2021-07-07T16:44:39.101052Z",
     "iopub.status.idle": "2021-07-07T16:44:39.108524Z",
     "shell.execute_reply": "2021-07-07T16:44:39.108906Z",
     "shell.execute_reply.started": "2021-07-07T15:33:37.600694Z"
    },
    "papermill": {
     "duration": 0.051157,
     "end_time": "2021-07-07T16:44:39.109050",
     "exception": false,
     "start_time": "2021-07-07T16:44:39.057893",
     "status": "completed"
    },
    "tags": []
   },
   "outputs": [
    {
     "name": "stdout",
     "output_type": "stream",
     "text": [
      "Chup Chup Ke\n",
      "X: Past Is Present\n",
      "Ugly Aur Pagli\n",
      "Highway\n",
      "Fida\n"
     ]
    }
   ],
   "source": [
    "recommend('Jab We Met')"
   ]
  },
  {
   "cell_type": "code",
   "execution_count": 51,
   "id": "indian-tobago",
   "metadata": {
    "execution": {
     "iopub.execute_input": "2021-07-07T16:44:39.196416Z",
     "iopub.status.busy": "2021-07-07T16:44:39.195537Z",
     "iopub.status.idle": "2021-07-07T16:44:39.197818Z",
     "shell.execute_reply": "2021-07-07T16:44:39.198227Z",
     "shell.execute_reply.started": "2021-07-07T16:04:05.216272Z"
    },
    "papermill": {
     "duration": 0.047403,
     "end_time": "2021-07-07T16:44:39.198374",
     "exception": false,
     "start_time": "2021-07-07T16:44:39.150971",
     "status": "completed"
    },
    "tags": []
   },
   "outputs": [],
   "source": [
    "import pickle"
   ]
  },
  {
   "cell_type": "code",
   "execution_count": 52,
   "id": "checked-graph",
   "metadata": {
    "execution": {
     "iopub.execute_input": "2021-07-07T16:44:39.287516Z",
     "iopub.status.busy": "2021-07-07T16:44:39.286573Z",
     "iopub.status.idle": "2021-07-07T16:44:39.335802Z",
     "shell.execute_reply": "2021-07-07T16:44:39.335186Z",
     "shell.execute_reply.started": "2021-07-07T16:04:14.861724Z"
    },
    "papermill": {
     "duration": 0.096232,
     "end_time": "2021-07-07T16:44:39.335930",
     "exception": false,
     "start_time": "2021-07-07T16:44:39.239698",
     "status": "completed"
    },
    "tags": []
   },
   "outputs": [],
   "source": [
    "pickle.dump(new,open('bollywoodmovie_list.pkl','wb'))\n",
    "pickle.dump(similarity,open('moviesimilarity.pkl','wb'))"
   ]
  }
 ],
 "metadata": {
  "kernelspec": {
   "display_name": "Python 3",
   "language": "python",
   "name": "python3"
  },
  "language_info": {
   "codemirror_mode": {
    "name": "ipython",
    "version": 3
   },
   "file_extension": ".py",
   "mimetype": "text/x-python",
   "name": "python",
   "nbconvert_exporter": "python",
   "pygments_lexer": "ipython3",
   "version": "3.7.10"
  },
  "papermill": {
   "default_parameters": {},
   "duration": 14.423505,
   "end_time": "2021-07-07T16:44:39.986094",
   "environment_variables": {},
   "exception": null,
   "input_path": "__notebook__.ipynb",
   "output_path": "__notebook__.ipynb",
   "parameters": {},
   "start_time": "2021-07-07T16:44:25.562589",
   "version": "2.3.3"
  }
 },
 "nbformat": 4,
 "nbformat_minor": 5
}
